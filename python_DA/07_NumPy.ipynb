{
 "cells": [
  {
   "cell_type": "code",
   "execution_count": null,
   "metadata": {},
   "outputs": [],
   "source": [
    "##NumPy (Numerical Python)\n",
    "##수학적 계산을 할 때, 수치연산을 할 떄 사용된다\n",
    "##마치 R의 Vector를 사용하는 것처럼 NumPy를 이용할 수 있어요\n",
    "##Vector연산, Matrix연산을 빠르고 효율적으로 처리할 수 있어요\n",
    "\n",
    "## Pandas, Matplotlib,의 기본 module이 NumPy\n",
    "\n",
    "## NumPy module은 ndarray(n~dimensional array)라고 불리는 자료구조를 이용\n",
    "## => R에서 Vector와 유사\n",
    "## R의 Vector자료구조는 같은 데이터 타입을 저장하는 자료구조\n",
    "## ndarray도 같은 데이터 타입만 저장이 가능\n",
    "\n",
    "## NumPy의 ndarray를 이용하려면 NumPy module이 설치되어 있어야 함!\n"
   ]
  },
  {
   "cell_type": "code",
   "execution_count": 2,
   "metadata": {},
   "outputs": [
    {
     "name": "stdout",
     "output_type": "stream",
     "text": [
      "list => [1, 2, 3, 4], type => <class 'list'>\n",
      "list[0] => 1, type => <class 'int'>\n",
      "ndarray => [1 2 3 4]\n",
      "ndarray => <class 'numpy.ndarray'>\n",
      "ndarray dtype => int32\n",
      "['100' 'Hello' '3.14']\n",
      "<U11\n",
      "<class 'numpy.str_'>\n"
     ]
    }
   ],
   "source": [
    "# module을 설치할 때 conda 명령을 이용해서 설치\n",
    "# python은 pip를 이용해서 module을 설치\n",
    "# conda install numpy\n",
    "import numpy as np\n",
    "\n",
    "# ndarray를 생성하고 data type을 살펴보아요\n",
    "\n",
    "# python list\n",
    "a = [1,2,3,4]\n",
    "print(\"list => {}, type => {}\".format(a,type(a)))\n",
    "print(\"list[0] => {}, type => {}\".format(a[0],type(a[0])))\n",
    "\n",
    "# numpy ndarray\n",
    "b = np.array([1,2,3,4])\n",
    "print(\"ndarray => {}\".format(b))\n",
    "print(\"ndarray => {}\".format(type(b)))\n",
    "print(\"ndarray dtype => {}\".format(b.dtype)) # int32 : 32비트 정수 2^32 개의 경우의 수 약 (-21억 ~ 21억)\n",
    "# int64를 이용하면 더 큰수를 표현할 수 있음\n",
    "\n",
    "# ndarray를 만드는 가장 간단한 방법 => numpy가 제공하는 arrat 함수를 이용 : np.array\n",
    "c = np.array([100,\"Hello\",3.14])\n",
    "print(c) # 모두 같은 data type이 되어야 해요\n",
    "print(c.dtype) # <U11 unicode문자열이라는 뜻\n",
    "print(type(c[0]))"
   ]
  },
  {
   "cell_type": "code",
   "execution_count": 2,
   "metadata": {},
   "outputs": [
    {
     "name": "stdout",
     "output_type": "stream",
     "text": [
      "[[1 2 3]\n",
      " [4 5 6]]\n",
      "6\n",
      "int32\n",
      "int64\n",
      "float64\n",
      "[[1. 2. 3.]\n",
      " [4. 5. 6.]]\n"
     ]
    }
   ],
   "source": [
    "# 다차원 numpy array를 만들어보아요\n",
    "myList = [(1,2,3),(4,5,6)]\n",
    "arr = np.array(myList) # 2차원의 ndarray\n",
    "print(arr)\n",
    "print(arr[1,2]) # arr[1][2] 이렇게 쓰지않아요\n",
    "# 1행 2열의 값은 얼마인가요? => 6 ( 시작은 0행 0열)\n",
    "# n차원의 ndarrat가 어떻게 표현되는지 확인해야 해요\n",
    "# 기본 데이터타입은 정수일 경우 int32로 사용되요\n",
    "print(arr.dtype)\n",
    "# 만약 데이터타입을 지정하려면\n",
    "arr = np.array(myList, dtype = \"int64\") # 그다지 좋지 않아요\n",
    "arr = np.array(myList, dtype = np.int64) # 이렇게 사용해요\n",
    "print(arr.dtype)\n",
    "arr = np.array(myList, dtype = np.float64)\n",
    "print(arr.dtype)\n",
    "print(arr)"
   ]
  },
  {
   "cell_type": "code",
   "execution_count": 9,
   "metadata": {},
   "outputs": [
    {
     "name": "stdout",
     "output_type": "stream",
     "text": [
      "3\n",
      "(2, 2, 2)\n"
     ]
    }
   ],
   "source": [
    "# 차원의 개수와 크기 및 axis\n",
    "#myList = [1,2,3,4]\n",
    "#myList = [[1,2],[3,4],[5,6],[7,8]]\n",
    "myList = [  [  [1,2],[3,4]  ]  ,  [  [5,6],[7,8]  ]  ]\n",
    "\n",
    "arr = np.array(myList)\n",
    "# 이렇게 numpy array를 생성하면 차원의 개수를 알 수 있아요\n",
    "print(arr.ndim) # 차원의 개수를 알려주는 속성\n",
    "# 차원의 개수와 원소 개수를 동시에 알려주는 속성\n",
    "print(arr.shape) # 값이 tuple로 나오고 tuple안의 값의 개수가 차원수고 해당 값은 그 차원의 원소 개수를 알수 있다\n",
    "\n",
    "## 1차원 => 열\n",
    "## 2차원 => 행,열\n",
    "## 3차원 => 면,행,열\n"
   ]
  },
  {
   "cell_type": "code",
   "execution_count": 18,
   "metadata": {},
   "outputs": [
    {
     "name": "stdout",
     "output_type": "stream",
     "text": [
      "ndarray의 차원의 수는 : 1\n",
      "ndarray의 shape : (18,)\n",
      "ndarray의 요소개수 : 18\n",
      "ndarray의 len() : 18\n",
      "[[[ 1  2  3]\n",
      "  [ 4  5  6]\n",
      "  [ 7  8  9]]\n",
      "\n",
      " [[10 11 12]\n",
      "  [13 14 15]\n",
      "  [16 17 18]]]\n"
     ]
    }
   ],
   "source": [
    "# numpy array 차원 제어\n",
    "\n",
    "myList = [1,2,3,4,5,6,7,8,9,10,11,12,13,14,15,16,17,18]\n",
    "# myList = [[1,2,3],[4,5,6]]\n",
    "arr = np.array(myList)\n",
    "print(\"ndarray의 차원의 수는 : {}\".format(arr.ndim))\n",
    "print(\"ndarray의 shape : {}\".format(arr.shape))\n",
    "# ndarray의 크기를 알아보아요\n",
    "print(\"ndarray의 요소개수 : {}\".format(arr.size))\n",
    "# python의 len()함수는 ndarray에 대해 적용하면 # 1차원의 요소 개수를 리턴\n",
    "print(\"ndarray의 len() : {}\".format(len(arr)))\n",
    "\n",
    "# shape은 변경할 수 잇어요\n",
    "arr.shape = (2,3,3)\n",
    "print(arr)\n",
    "\n",
    "# 이렇게 shape을 변경할 수 잇는데\n",
    "# arr.shape 을 직접 바구는 방식은 잘 사용되지 않아요\n",
    "# 다른 방식이 있어요! reshape()함수를 이용해요\n",
    "\n"
   ]
  },
  {
   "cell_type": "code",
   "execution_count": 3,
   "metadata": {},
   "outputs": [
    {
     "name": "stdout",
     "output_type": "stream",
     "text": [
      "dtype : float64\n",
      "[ 1.1   3.14  2.   44.    3.99]\n",
      "int32\n",
      "[ 1  3  2 44  3]\n"
     ]
    }
   ],
   "source": [
    "# numpy array의 type 변경\n",
    "arr = np.array([1.1,3.14,2,44.0,3.99])\n",
    "print(\"dtype : {}\".format(arr.dtype))\n",
    "print(arr)\n",
    "\n",
    "# ndarray의 데이터 타입을 다른 형식으로 변경할 수 있어요\n",
    "int_arr = arr.astype(np.int32) # 실수를 정수로 변경할때 무조건 소수점이하 버림 처리\n",
    "print(int_arr.dtype)\n",
    "print(int_arr)"
   ]
  },
  {
   "cell_type": "code",
   "execution_count": null,
   "metadata": {},
   "outputs": [],
   "source": [
    "# numpy array를 생성하는 다양한 방법\n",
    "arr = np.array([1,2,3,4])\n",
    "\n",
    "# 모든 원소의 값이 0인 ndarray를 원하는 shape으로 생성\n",
    "arr = np.zeros((3,4)) # (3,4) shape형태로 원소의 값이 0인 ndarray를 생성\n",
    "print(arr)\n",
    "\n",
    "# 모든 원소의 값이 1인 ndarray를 원하는 shape으로 생성\n",
    "arr = np.ones((2,4),dtype =np.int32)\n",
    "print(arr)\n",
    "\n",
    "# numpy array의 공간만 확보할 수 있어요\n",
    "# 초기화를 하지 않아요\n",
    "arr = np.empty((5,7))\n",
    "print(arr)\n",
    "# ones나 zeros는 초기화 작업이 추가적으로 진행\n",
    "# array의 크기가 커지면 속도가 저하\n",
    "\n",
    "arr = np.full((3,4),9, dtype = np.float64)\n",
    "print(arr)\n",
    "\n",
    "arr = np.array([(1,2,3),(4,5,6)])\n",
    "print(arr)\n",
    "# 위에서 설명한 ones, zeros,full,empty와 같은 역할을 하면서 shape이 지정한 array와 같도록 만드는 함수\n",
    "arr_like = np.ones_like(arr, dtype = np.float64)\n",
    "print(arr_like)"
   ]
  },
  {
   "cell_type": "code",
   "execution_count": 53,
   "metadata": {},
   "outputs": [
    {
     "name": "stdout",
     "output_type": "stream",
     "text": [
      "[0 2 4 6 8]\n",
      "[0.1 1.1 2.1 3.1 4.1 5.1]\n"
     ]
    }
   ],
   "source": [
    "# ndarray를 만드는 다양한 방법 : arange\n",
    "# python의 range()와 유사한 가능을 해요\n",
    "\n",
    "arr = np.arange(0,10,2) # 0 이상 10 미만 2씩 증가\n",
    "print(arr)\n",
    "\n",
    "arr = np.arange(0.1,5.3)\n",
    "print(arr)\n"
   ]
  },
  {
   "cell_type": "code",
   "execution_count": 12,
   "metadata": {},
   "outputs": [
    {
     "data": {
      "text/plain": [
       "<function matplotlib.pyplot.show(*args, **kw)>"
      ]
     },
     "execution_count": 12,
     "metadata": {},
     "output_type": "execute_result"
    },
    {
     "data": {
      "image/png": "[encoded data removed]",
      "text/plain": [
       "<Figure size 432x288 with 1 Axes>"
      ]
     },
     "metadata": {
      "needs_background": "light"
     },
     "output_type": "display_data"
    }
   ],
   "source": [
    "# numpy를 만드는 다양한 방법 : linspace\n",
    "# np.linspace(start,stop,num)\n",
    "# start부터 stop까지의 범위에서 num개를 균일한 간격으로 데이터를 생성하고 ndarray로 return\n",
    "\n",
    "# 눈으로 보기 힘드니 그래프로 보아요\n",
    "# chart를 그리는 대표적인 package가 있어요 => matplotlib\n",
    "import matplotlib.pyplot as plt\n",
    "\n",
    "arr = np.linspace(0,10,20)\n",
    "plt.plot(arr)\n",
    "plt.show"
   ]
  },
  {
   "cell_type": "code",
   "execution_count": 28,
   "metadata": {},
   "outputs": [
    {
     "data": {
      "image/png": "[encoded data removed]",
      "text/plain": [
       "<Figure size 432x288 with 1 Axes>"
      ]
     },
     "metadata": {
      "needs_background": "light"
     },
     "output_type": "display_data"
    }
   ],
   "source": [
    "## NumPy Array (ndarray)\n",
    "## 특징, 여러가지 속성들(ndim, shape,...)\n",
    "## ndarray 생성방법\n",
    "\n",
    "## 난수를 이용해서 ndarray를 생성해보자\n",
    "## 5가지 정도가 존재\n",
    "\n",
    "## np.random.normal() : 난수를 생성해서 ndarray를 만들 수 있어요\n",
    "## ==> 정규분포 확률밀도에서 난수를 발생시켜요\n",
    "import numpy as np\n",
    "import matplotlib.pyplot as plt\n",
    "\n",
    "## 평균\n",
    "myMean = 50\n",
    "## 표준편차\n",
    "myStd = 2\n",
    "## shape\n",
    "arr = np.random.normal(myMean,myStd,(10000,)) #shape을 이용\n",
    "print(arr)\n",
    "plt.hist(arr,bins=100)\n",
    "plt.show()"
   ]
  },
  {
   "cell_type": "code",
   "execution_count": 119,
   "metadata": {},
   "outputs": [
    {
     "data": {
      "image/png": "[encoded data removed]",
      "text/plain": [
       "<Figure size 432x288 with 1 Axes>"
      ]
     },
     "metadata": {
      "needs_background": "light"
     },
     "output_type": "display_data"
    }
   ],
   "source": [
    "## 난수 추출\n",
    "## [0,1) 0이상 1미만 구간에서 균등분포 확률밀도 상에서 난수\n",
    "\n",
    "arr = np.random.rand(10000) # 3차원 (1000) 1차원 (1000,2) 2차원 \n",
    "\n",
    "plt.hist(arr,bins = 100)\n",
    "plt.show()"
   ]
  },
  {
   "cell_type": "code",
   "execution_count": 118,
   "metadata": {},
   "outputs": [
    {
     "data": {
      "image/png": "[encoded data removed]",
      "text/plain": [
       "<Figure size 432x288 with 1 Axes>"
      ]
     },
     "metadata": {
      "needs_background": "light"
     },
     "output_type": "display_data"
    }
   ],
   "source": [
    "## 난수를 추출\n",
    "## 표준정규분포 확률밀도 상에서 난수\n",
    "arr = np.random.randn(10000) #인자의 개수로 차원을 지정\n",
    "plt.hist(arr,bins = 100)\n",
    "plt.show()"
   ]
  },
  {
   "cell_type": "code",
   "execution_count": 117,
   "metadata": {},
   "outputs": [
    {
     "data": {
      "image/png": "[encoded data removed]",
      "text/plain": [
       "<Figure size 432x288 with 1 Axes>"
      ]
     },
     "metadata": {
      "needs_background": "light"
     },
     "output_type": "display_data"
    }
   ],
   "source": [
    "## 난수(정수)를 추출\n",
    "## 주어진 범위에서 균등분포 확률밀도 상에서 난수 추출\n",
    "arr = np.random.randint(-100,100,(10000))\n",
    "plt.hist(arr,bins=100)\n",
    "plt.show()"
   ]
  },
  {
   "cell_type": "code",
   "execution_count": 116,
   "metadata": {},
   "outputs": [
    {
     "data": {
      "image/png": "[encoded data removed]",
      "text/plain": [
       "<Figure size 432x288 with 1 Axes>"
      ]
     },
     "metadata": {
      "needs_background": "light"
     },
     "output_type": "display_data"
    }
   ],
   "source": [
    "## 난수(실수)를 추출\n",
    "## [0,1)에서 균등분포로 난수 추출\n",
    "arr = np.random.random((10000,)) # random.random()은 shape을 줘야함 \n",
    "plt.hist(arr,bins = 100)\n",
    "plt.show()\n"
   ]
  },
  {
   "cell_type": "code",
   "execution_count": 115,
   "metadata": {},
   "outputs": [
    {
     "name": "stdout",
     "output_type": "stream",
     "text": [
      "[8 9 3 8 8]\n"
     ]
    }
   ],
   "source": [
    "# 난수는 랜덤값이기 때문에 실행할 때마다 추출되는 난수가 달라져야해요!\n",
    "\n",
    "# 난수값도 사실은 알고리즘에 의해서 계산되는 값이에요\n",
    "# 알고리즘의 초기값을 고정시키면 항상 같은 난수를 얻을 수 있어요! => 재현성\n",
    "np.random.seed(3)\n",
    "arr = np.random.randint(0,10,(5,)) # 0 부터 10가이 1차원 5개 정수를 균등분포 추출\n",
    "print(arr)"
   ]
  },
  {
   "cell_type": "code",
   "execution_count": null,
   "metadata": {},
   "outputs": [],
   "source": []
  },
  {
   "cell_type": "code",
   "execution_count": 20,
   "metadata": {
    "scrolled": true
   },
   "outputs": [
    {
     "name": "stdout",
     "output_type": "stream",
     "text": [
      "[ 0  1  2  3  4  5  6  7  8  9 10 11]\n",
      "[[ 0  1  2]\n",
      " [ 3  4  5]\n",
      " [ 6  7  8]\n",
      " [ 9 10 11]]\n",
      "[  0 100   2   3   4   5   6   7   8   9  10  11]\n",
      "[[  0 100   2]\n",
      " [  3   4   5]\n",
      " [  6   7   8]\n",
      " [  9  10  11]]\n",
      "[  0 100   2   3   4   5   6   7   8   9  10  11]\n",
      "True\n",
      "[ True  True  True  True  True  True  True  True  True  True  True  True]\n",
      "[[ 0  1  2  3  4  5  6  7  8  9 10 11 12 13 14 15 16 17 18 19]\n",
      " [20 21 22 23 24 25 26 27 28 29 30 31 32 33 34 35 36 37 38 39]\n",
      " [40 41 42 43 44 45 46 47 48 49 50 51 52 53 54 55 56 57 58 59]\n",
      " [60 61 62 63 64 65 66 67 68 69 70 71 72 73 74 75 76 77 78 79]\n",
      " [80 81 82 83 84 85 86 87 88 89 90 91 92 93 94 95 96 97 98 99]]\n",
      "[ 0  1  2  3  4  5  6  7  8  9 10 11 12 13 14 15 16 17 18 19 20 21 22 23\n",
      " 24 25 26 27 28 29 30 31 32 33 34 35 36 37 38 39 40 41 42 43 44 45 46 47\n",
      " 48 49 50 51 52 53 54 55 56 57 58 59 60 61 62 63 64 65 66 67 68 69 70 71\n",
      " 72 73 74 75 76 77 78 79 80 81 82 83 84 85 86 87 88 89 90 91 92 93 94 95\n",
      " 96 97 98 99]\n"
     ]
    }
   ],
   "source": [
    "# Numpy 활용에 대해서 알아보아요\n",
    "# shape을 조절해서 내가 우너하는 형태의 ndarray를 만들어 보아요\n",
    "import numpy as np\n",
    "\n",
    "arr = np.arange(0,12,1)\n",
    "print(arr)\n",
    "\n",
    "# 2차원으로 변경 4행 3열\n",
    "# reshape을 이용하면 view가 만들어짐\n",
    "arr1 = arr.reshape(4,3) # 데이터는 아직 arr에 있고 arr1은 arr를 보여주는 창\n",
    "print(arr1)\n",
    "arr[1] =100\n",
    "print(arr)\n",
    "print(arr1)\n",
    "# view 는 base속성이 있어요\n",
    "print(arr1.base)\n",
    "print(arr1.base is arr)\n",
    "print(arr1.base == arr)\n",
    "\n",
    "# shape를 변경해서 새로운 ndarray를 만들고 싶어요\n",
    "arr = np.arange(0,12,1)\n",
    "arr1 = arr.reshape(4,3).copy() # 새로운 ndarray를 생성\n",
    "\n",
    "# arr1 = arr.reshape(5,3) # error (형태가 맞지 않아요)\n",
    "arr1 = arr.reshape(2,-1) # -1의 의미는 앞에꺼 채우고 나머지 채워\n",
    "\n",
    "arr = np.arange(0,100,1).reshape(5,-1).copy()\n",
    "print(arr)\n",
    "# 다차원배열을 1차원으로 만들수 있어요\n",
    "arr1 = np.ravel(arr)\n",
    "print(arr1)"
   ]
  },
  {
   "cell_type": "code",
   "execution_count": 25,
   "metadata": {},
   "outputs": [
    {
     "name": "stdout",
     "output_type": "stream",
     "text": [
      "[0 1 2 3 4 5 6 7 8 9]\n",
      "[[0 1 2 3 4 5]\n",
      " [6 7 8 9 0 1]]\n",
      "[[0 1]\n",
      " [2 3]]\n",
      "[[0 1 2]\n",
      " [3 4 5]]\n"
     ]
    }
   ],
   "source": [
    "# resize()는 reshape()과 상당히 유사\n",
    "# reshape는 형태가 맞지 않으면 변경시 error발생\n",
    "# 그러나 resize는 가능\n",
    "\n",
    "arr = np.arange(0,10,1)\n",
    "print(arr)\n",
    "# resize를 이용하는 1번째 방법\n",
    "arr1 = np.resize(arr,(2,6)) # 변경된 ndarray를 return\n",
    "print(arr1)\n",
    "# 모자란 부분은 처음부터 다시 추가\n",
    "arr2 = np.resize(arr,(2,2))\n",
    "print(arr2)\n",
    "# 남는 부분은 버림\n",
    "# ndarray를 직접이용한 방법\n",
    "arr = np.arange(0,10,1)\n",
    "result = arr.resize(2,3)\n",
    "print(result) # None 왜냐하면 arr.resize를 하면 원본이 바뀌는거임\n",
    "# np.resize 와 arr.resize의 차이 비교\n",
    "print(arr)"
   ]
  },
  {
   "cell_type": "code",
   "execution_count": 35,
   "metadata": {},
   "outputs": [
    {
     "name": "stdout",
     "output_type": "stream",
     "text": [
      "[[7 5 1]\n",
      " [2 4 8]]\n",
      "[[6 4 8 6 2]\n",
      " [6 8 9 3 4]]\n",
      "[[7 5 1 6 4 8 6 2]\n",
      " [2 4 8 6 8 9 3 4]]\n",
      "[[8 9 9]\n",
      " [7 2 0]]\n",
      "[[4 8 5]\n",
      " [5 1 2]\n",
      " [0 7 5]]\n",
      "[[8 9 9]\n",
      " [7 2 0]\n",
      " [4 8 5]\n",
      " [5 1 2]\n",
      " [0 7 5]]\n"
     ]
    }
   ],
   "source": [
    "# numpy array를 가로방향으로 혹은 세로방향으로 결합\n",
    "# 2행3열짜리 ndarray를 생성\n",
    "\n",
    "# 정수로 생성 랜덤하게 균등분포로 0~10 사이에서 추출\n",
    "# 6개를 추출해서 2차원 ndarray를 생성\n",
    "np.random.seed(1111)\n",
    "arr1 = np.random.randint(0,10,(2,3))\n",
    "print(arr1)\n",
    "# 가로방향으로 결합\n",
    "# 행의 개수가 같아야 해요 열의 개수는 상관 없어요\n",
    "arr2 = np.random.randint(0,10,(2,5))\n",
    "print(arr2)\n",
    "result = np.hstack((arr1,arr2))\n",
    "print(result)\n",
    "# 세로방향으로 결합\n",
    "# 열의 개수가 같아야 해요 행의 개수는 상관없어요\n",
    "arr1 = np.random.randint(0,10,(2,3))\n",
    "arr2 = np.random.randint(0,10,(3,3))\n",
    "result1 = np.vstack((arr1,arr2))\n",
    "print(arr1)\n",
    "print(arr2)\n",
    "print(result1)\n",
    "\n",
    "###########################################################################\n",
    "# ndarray 생성 특징\n",
    "# reshape resize => view 개념 (메모리를 효율적으로 사용하기 위해)\n",
    "# 여러개의 ndaarray를 결합할 수 있아요\n",
    "# 이제 indexing과 slicing에 대한 얘기만 하면 되요\n"
   ]
  },
  {
   "cell_type": "code",
   "execution_count": 63,
   "metadata": {
    "scrolled": true
   },
   "outputs": [
    {
     "name": "stdout",
     "output_type": "stream",
     "text": [
      "[0 1 2 3 4]\n",
      "2\n",
      "[1 2]\n",
      "[0 1 2]\n",
      "[2 3 4]\n",
      "[1 3]\n",
      "[4]\n",
      "[[ 0  1  2  3]\n",
      " [ 4  5  6  7]\n",
      " [ 8  9 10 11]]\n",
      "6\n",
      "[0 4 8]\n",
      "[ 5  6  9 10]\n"
     ]
    }
   ],
   "source": [
    "# numpy array indexing과 slicing\n",
    "\n",
    "# arr = np.arange(10,20,1)\n",
    "# print(arr)\n",
    "\n",
    "# for i in arr:                  # data만 추출해서 사용하는 for\n",
    "#     print(\"data : {}\".format(i))\n",
    "    \n",
    "# for idx,data in enumerate(arr):\n",
    "#     print(\"index: {}, data: {}\".format(idx,data))\n",
    "\n",
    "########################################################\n",
    "\n",
    "arr = np.arange(0,5,1)\n",
    "print(arr)\n",
    "print(arr[2])   # indexing\n",
    "print(arr[1:3]) # slicing [1 2]\n",
    "print(arr[:3])  # slicing [0 1 2]\n",
    "print(arr[2:])  # slicing [2 3 4] \n",
    "print(arr[1::2])  # slicing [1 3] 1부터 2개씩 넘어가면서\n",
    "print(arr[-1:])\n",
    "\n",
    "arr = np.arange(0,12,1).reshape(3,4).copy()\n",
    "print(arr)\n",
    "print(arr[1,2])\n",
    "print(arr[:,0])  # [0 4 8]\n",
    "\n",
    "# [5 6 9 10]\n",
    "print(arr[1:3,1:3].ravel())"
   ]
  },
  {
   "cell_type": "code",
   "execution_count": 72,
   "metadata": {},
   "outputs": [
    {
     "name": "stdout",
     "output_type": "stream",
     "text": [
      "[5 8 9 5 0 0 1 7 6 9]\n",
      "[False  True False False  True  True False False  True False]\n",
      "[8 0 0 6]\n"
     ]
    }
   ],
   "source": [
    "# Boolean Indexing & Fancy Indexing\n",
    "# boolean indexing은 mask를 이용해서 배열릐 각 요소의 선택여부를\n",
    "# True, Falase로 지정해서 True요소만 선택하는 방식\n",
    "\n",
    "# 정수형 난수를 추출해 보아요\n",
    "# 0부터 9까지 정수형 난수를 1차원으로 10개 균등분포를 이요하여 추출\n",
    "np.random.seed(1)\n",
    "arr = np.random.randint(0,10,(10,))\n",
    "print(arr)\n",
    "# 여기에서 짝수만 추출\n",
    "# result = list()\n",
    "# for i in arr:\n",
    "#     if i % 2 ==0:\n",
    "#         result.append(i)\n",
    "# result = np.array(result)\n",
    "# print(result)\n",
    "\n",
    "# 조건에 맞는 mask를 만들어요\n",
    "print(arr % 2 ==0) # mask = [False  True False False  True  True False False  True False]\n",
    "print(arr[arr % 2 ==0])"
   ]
  },
  {
   "cell_type": "code",
   "execution_count": 93,
   "metadata": {
    "scrolled": true
   },
   "outputs": [
    {
     "name": "stdout",
     "output_type": "stream",
     "text": [
      "[[ 0  1  2  3]\n",
      " [ 4  5  6  7]\n",
      " [ 8  9 10 11]]\n",
      "10\n",
      "[6]\n",
      "[ 2 10]\n",
      "[[ 1  2  3]\n",
      " [ 9 10 11]]\n",
      "[ 5 10]\n",
      "[[ 5  6]\n",
      " [ 9 10]]\n",
      "[[ 5  6]\n",
      " [ 9 10]]\n"
     ]
    }
   ],
   "source": [
    "# Fancy Indexing\n",
    "# indexing을 할 때 배열을 이용해서 배열 요소를 찾는 방식\n",
    "arr = np.arange(0,12,1).reshape(3,4).copy()\n",
    "print(arr)\n",
    "\n",
    "print(arr[2,2])\n",
    "print(arr[1:2,2])\n",
    "\n",
    "print(arr[[0,2],2])\n",
    "print(arr[[0,2],1:])\n",
    "\n",
    "# 5 6 9 10 을 얻고 싶다\n",
    "\n",
    "print(arr[[1,2],[1,2]]) # 틀림\n",
    "# 방법1\n",
    "print(arr[[1,2]][:,[1,2]])\n",
    "# 방법2\n",
    "print(arr[np.ix_([1,2],[1,2])])"
   ]
  },
  {
   "cell_type": "code",
   "execution_count": 97,
   "metadata": {
    "scrolled": true
   },
   "outputs": [
    {
     "name": "stdout",
     "output_type": "stream",
     "text": [
      "[[1 2 3]\n",
      " [4 5 6]]\n",
      "[[6 9 6]\n",
      " [1 1 2]]\n",
      "[[ 7 11  9]\n",
      " [ 5  6  8]]\n",
      "[[11 12 13]\n",
      " [14 15 16]]\n",
      "[[2 4 6]\n",
      " [5 7 9]]\n"
     ]
    }
   ],
   "source": [
    "# ndarray의 연산\n",
    "# n의 vector 연산과 유사\n",
    "np.random.seed(1)\n",
    "arr1 = np.arange(1,7,1).reshape(2,3).copy()\n",
    "arr2 = np.random.randint(1,10,(2,3))\n",
    "print(arr1)\n",
    "print(arr2)\n",
    "print(arr1+arr2)\n",
    "print(arr1 +10)  # 이렇게 타입이 안맞는 경우 scalar값을 brocasting시켜요\n",
    "arr2=np.array([1,2,3])\n",
    "print(arr1+arr2)\n",
    "arr2 = np.array([1,2])\n"
   ]
  },
  {
   "cell_type": "code",
   "execution_count": 126,
   "metadata": {},
   "outputs": [
    {
     "name": "stdout",
     "output_type": "stream",
     "text": [
      "[[6 9 6 1 1]\n",
      " [2 8 7 3 5]]\n",
      "36\n",
      "5\n"
     ]
    }
   ],
   "source": [
    "# 기본적인 집계함수\n",
    "arr=np.arange(0,12,1).reshape(3,4).copy()\n",
    "# print(arr)\n",
    "# print(np.sum(arr)) # 66\n",
    "# print(np.cumsum(arr)) # [ 0  1  3  6 10 15 21 28 36 45 55 66]\n",
    "# print(np.mean(arr)) # 5.5\n",
    "# print(np.max(arr)) # 11\n",
    "# print(np.min(arr)) # 0\n",
    "# print(np.std(arr)) # 3.452052529534663\n",
    "# print(np.sqrt(arr))\n",
    "# print(np.log10(arr))\n",
    "\n",
    "# 축 개념을 이해해보아요\n",
    "# 위에 있는 집계함수를 이용할 때 axis 개념을 사용해요\n",
    "# 만약 axis를 명시하지 않으면 axis를 None으로 설정하고 대상범위를 전체 ndarray로 지정\n",
    "\n",
    "# 1차원 ndarray\n",
    "# arr = np.arange(0,5,1)\n",
    "# print(arr)\n",
    "# print(arr.sum())\n",
    "# print(arr.sum(axis=0)) # 1차원에서 axis=0이면 열방향 1이면 행방향\n",
    "\n",
    "# 2차원 ndarray\n",
    "# arr=np.arange(0,12,1).reshape(3,4).copy()\n",
    "# print(arr)\n",
    "# print(arr.sum())\n",
    "# print(arr.sum(axis=0)) #2차원에서 axis=0이면 행방향 1이면 열방향\n",
    "# print(arr.sum(axis=1))\n",
    "\n",
    "# 당연하게.. 일반 로직으로 프로그램하는것보다는 집계함수를 이요해서 처리하는게 훨씬 효율적\n",
    "\n",
    "# 응용\n",
    "np.random.seed(1)\n",
    "arr = np.random.randint(1,10,(2,5))\n",
    "print(arr)\n",
    "# arr 에서 5보다 큰 수를 다 더해라\n",
    "print(arr[arr>5].sum())\n",
    "# arr 에서 5보다 큰 수의 개수\n",
    "print(arr[arr>5].size)\n"
   ]
  },
  {
   "cell_type": "code",
   "execution_count": 133,
   "metadata": {},
   "outputs": [
    {
     "name": "stdout",
     "output_type": "stream",
     "text": [
      "[[ 0  1  2  3]\n",
      " [ 4  5  6  7]\n",
      " [ 8  9 10 11]]\n",
      "[ 0  2  3  4  5  6  7  8  9 10 11]\n",
      "[[ 0  1  2  3]\n",
      " [ 8  9 10 11]]\n",
      "[[ 0  2  3]\n",
      " [ 4  6  7]\n",
      " [ 8 10 11]]\n"
     ]
    }
   ],
   "source": [
    "# delete 함수는 axis을 기준으로 행과 열을 삭제\n",
    "# axis을 지정하지 않으면 1차배열로 변환한 후 해당 요소를 삭제\n",
    "# 원본은 유지하고 삭제된 복사본을 return\n",
    "\n",
    "arr = np.arange(0,12,1).reshape(3,4).copy()\n",
    "print(arr)\n",
    "\n",
    "# axis를 지정하지 않고 삭제 처리\n",
    "result = np.delete(arr,1) # 1차배열로 변환한 후 해당 인덱스를 삭제\n",
    "\n",
    "print(result)\n",
    "\n",
    "# axis를 지정하고 삭제 처리\n",
    "result = np.delete(arr,1,axis=0) # 행방향으로 1 번째 줄을 삭제\n",
    "print(result)\n",
    "result = np.delete(arr,1,axis=1)\n",
    "print(result)"
   ]
  }
 ],
 "metadata": {
  "kernelspec": {
   "display_name": "[CPU_ENV]",
   "language": "python",
   "name": "cpu_env"
  },
  "language_info": {
   "codemirror_mode": {
    "name": "ipython",
    "version": 3
   },
   "file_extension": ".py",
   "mimetype": "text/x-python",
   "name": "python",
   "nbconvert_exporter": "python",
   "pygments_lexer": "ipython3",
   "version": "3.6.9"
  }
 },
 "nbformat": 4,
 "nbformat_minor": 2
}
