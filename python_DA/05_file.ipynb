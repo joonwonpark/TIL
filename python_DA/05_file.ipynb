{
 "cells": [
  {
   "cell_type": "code",
   "execution_count": 1,
   "metadata": {},
   "outputs": [
    {
     "name": "stdout",
     "output_type": "stream",
     "text": [
      "홍길동,18,7,19\n",
      "최길동,58,70,15\n",
      "아이유,92,94,99\n",
      "김연아,17,20,22\n",
      "이선희,76,25,14\n",
      "강감찬,90,19,71\n",
      "신사임당,31,23,16['홍길동,18,7,19', '최길동,58,70,15', '아이유,92,94,99', '김연아,17,20,22', '이선희,76,25,14', '강감찬,90,19,71', '신사임당,31,23,16', '']\n",
      "최길동,58,70,15\n"
     ]
    },
    {
     "data": {
      "text/plain": [
       "'15'"
      ]
     },
     "execution_count": 1,
     "metadata": {},
     "output_type": "execute_result"
    }
   ],
   "source": [
    "## Python 기본 파일처리\n",
    "\n",
    "\n",
    "\n",
    "# 1. file  handle 획득\n",
    "# 사용할 데이터 파일 오픈하기\n",
    "# 용도는 읽기 / 쓰기 두 가지\n",
    "# file 변수 = open(\"사용할 파일명\",\"용도\")\n",
    "# 용도: w / r\n",
    "\n",
    "file1 = open(\"student_score.txt\",\"r\")\n",
    "file2 = open(\"backup.txt\",\"w\" )\n",
    "\n",
    "# 할 것\n",
    "# 학생 성적 화일에서 한줄 씩 읽어와서 output console에 출력\n",
    "# 출력된 내용을 backup file에 저장 \n",
    "\n",
    "# 한줄 씩 읽는 반복적인 행위\n",
    "# 파일 끝까지 행위를 반복하지만, 횟수는 모를때: while 사용\n",
    "\n",
    "'''while True:                   #무한루프\n",
    "    line = file1.readline()\n",
    "    print(line)\n",
    "    if not line:\n",
    "        break                 #가장 가까운 반복문, 루프 하나만을 탈출'''\n",
    "        \n",
    "# 출력된 값이 한줄 띄어서 나오는 이유 = 개행문자\n",
    "# 홍길동,18,7,19(개행문자 \\n) \n",
    "# 최길동,58,70,15(개행문자 \\n)\n",
    "# 한 줄 안띄기 위해서는 print(lien, end=\"\")라는 설정 추가 \n",
    "# 또한 파일에 쓰도록 설정 추가; 이때 파일은 내가 만들지 않아도 알아서 만들어짐 \n",
    "a=[]\n",
    "while True:                   \n",
    "    line = file1.readline()\n",
    "    print(line, end=\"\")       \n",
    "    a.append(line.rstrip())\n",
    "    if not line:\n",
    "        break\n",
    "    \n",
    "    file2.write(line)\n",
    "print(a)    \n",
    "# 파일은 만들어졌는데 열어보니 내용물이 없음?!\n",
    "# 닫아줘야함!! 파일 처리의 기본이자 그래야 저장됨\n",
    "# 열었던 파일 모두 다 닫기 \n",
    "\n",
    "file1.close()\n",
    "file2.close()\n",
    "print(a[1])\n",
    "\n",
    "x=a[1].split(\",\")\n",
    "type(x)\n",
    "x[-1]"
   ]
  },
  {
   "cell_type": "code",
   "execution_count": 22,
   "metadata": {},
   "outputs": [
    {
     "name": "stdout",
     "output_type": "stream",
     "text": [
      "['홍길동,18,7,19', '최길동,58,70,15', '아이유,92,94,99', '김연아,17,20,22', '이선희,76,25,14', '강감찬,90,19,71', '신사임당,31,23,16', '']\n"
     ]
    }
   ],
   "source": [
    "print(a)"
   ]
  }
 ],
 "metadata": {
  "kernelspec": {
   "display_name": "[CPU_ENV]",
   "language": "python",
   "name": "cpu_env"
  },
  "language_info": {
   "codemirror_mode": {
    "name": "ipython",
    "version": 3
   },
   "file_extension": ".py",
   "mimetype": "text/x-python",
   "name": "python",
   "nbconvert_exporter": "python",
   "pygments_lexer": "ipython3",
   "version": "3.6.9"
  }
 },
 "nbformat": 4,
 "nbformat_minor": 2
}
