{
 "cells": [
  {
   "cell_type": "code",
   "execution_count": 14,
   "metadata": {},
   "outputs": [
    {
     "name": "stdout",
     "output_type": "stream",
     "text": [
      "233168\n"
     ]
    }
   ],
   "source": [
    "### 문제 1.\n",
    "# 10보다 작은 자연수 중에서 3또는5의 배수는\n",
    "# 3, 5, 6, 9.... 이것들의 합은 23입니다\n",
    "\n",
    "# 1000보다 작은 자연수 중에서 3또는 5의 배수들을 구해서 모두 합하면 답:233168\n",
    "\n",
    "result=0\n",
    "for k in range(1000):\n",
    "    if k%3 ==0 or k%5 ==0:\n",
    "        result= result +k\n",
    "    else:\n",
    "        pass\n",
    "print(result)\n"
   ]
  },
  {
   "cell_type": "code",
   "execution_count": 225,
   "metadata": {},
   "outputs": [
    {
     "name": "stdout",
     "output_type": "stream",
     "text": [
      "4613732\n",
      "4613732\n"
     ]
    }
   ],
   "source": [
    "### 문제 2.\n",
    "# 피보나치 수열의 각항은 바로 앞의 항 2개를 더한 것이 되요\n",
    "# 1,2,3,5,8,13,21,34...\n",
    "\n",
    "# 짝수이면서 4백만 이하인 모든 항을 더하면?\n",
    "bef_seq=0\n",
    "aft_seq=1\n",
    "seq=1\n",
    "even_seq_sum=0\n",
    "while seq <= 4000000:\n",
    "    bef_seq = aft_seq \n",
    "    aft_seq = seq\n",
    "    seq = bef_seq + aft_seq\n",
    "    if seq%2 == 0:\n",
    "        even_seq_sum = even_seq_sum + seq\n",
    "    else:\n",
    "        pass\n",
    "print(even_seq_sum)\n",
    "\n",
    "############################## 강사님 풀이#############################\n",
    "pb_seq = [1,2]\n",
    "sum=0\n",
    "while pb_seq[-1] <= 4000000:\n",
    "    k = pb_seq[-1] + pb_seq[-2]\n",
    "    pb_seq.append(k)\n",
    "for k in pb_seq:\n",
    "    if k%2 == 0:\n",
    "        sum=sum+k\n",
    "    else:\n",
    "        pass\n",
    "print(sum)"
   ]
  },
  {
   "cell_type": "code",
   "execution_count": 214,
   "metadata": {},
   "outputs": [
    {
     "name": "stdout",
     "output_type": "stream",
     "text": [
      "가장 많이 나온 문자는 i이고 7개 나왔다\n"
     ]
    }
   ],
   "source": [
    "### 문제3\n",
    "# 알파벳 대소문자로 되어 잇는 문자열이 주어져요.\n",
    "# 이 문자열에서 가장 많이 사용된 알파벳이 무엇인지 출력하는 프로그램\n",
    "# 단 대소문자 구별하지 않아요 만약 동률이 존재하면 알파벳 순서가 제일 앞에 잇는 알파벳을 출력\n",
    "# 공백은 제외\n",
    "\n",
    "# This is a sample Program mississippi river\n",
    "# abcdabcdabccddcd\n",
    "a=\"This is a sample Program mississippi river\"\n",
    "b = list(set(sorted(a.lower())) # 문자열 소트 하고 set로 해서 중복 뺴고 list로 만들기\n",
    "c = list()\n",
    "for i in b:\n",
    "    if i == \" \":\n",
    "        pass\n",
    "    else:\n",
    "        k = sorted(a.lower()).count(i)\n",
    "        c.append(k)\n",
    "d = c.index(max(c))\n",
    "print(\"가장 많이 나온 문자는 {0}이고 {1}개 나왔다\".format(b[d],max(c)))\n",
    "\n"
   ]
  },
  {
   "cell_type": "code",
   "execution_count": 422,
   "metadata": {},
   "outputs": [
    {
     "name": "stdout",
     "output_type": "stream",
     "text": [
      "다음 기회에\n",
      "[1, 6, 16, 23, 36, 41]\n",
      "[9, 20, 26, 33, 35, 39]\n",
      "겹치는 번호는 []입니다\n",
      "다음 기회에\n",
      "[1, 8, 13, 36, 38, 42]\n",
      "[9, 20, 26, 33, 35, 39]\n",
      "겹치는 번호는 []입니다\n",
      "다음 기회에\n",
      "[2, 17, 22, 26, 39, 41]\n",
      "[9, 20, 26, 33, 35, 39]\n",
      "겹치는 번호는 [26, 39]입니다\n",
      "다음 기회에\n",
      "[2, 5, 7, 14, 15, 16]\n",
      "[9, 20, 26, 33, 35, 39]\n",
      "겹치는 번호는 []입니다\n",
      "다음 기회에\n",
      "[3, 5, 21, 22, 26, 40]\n",
      "[9, 20, 26, 33, 35, 39]\n",
      "겹치는 번호는 [26]입니다\n",
      "3801514장 사야 1등에 당첨되요!\n",
      "비용 : 3,801,514,000\n",
      "[4, 7, 9, 14, 39, 45]\n",
      "Wall time: 40.6 s\n"
     ]
    }
   ],
   "source": [
    "%%time\n",
    "### 문제4\n",
    "# 로또 프로그램을 작성\n",
    "# 5000원으로 로또복권 5장을 자동으로 구매\n",
    "# 이번주 로또 당첨번호를 생성하여 구매한 로또가 당첨이 되었는지 확인\n",
    "# 쉬운버전부터 해보아요 => 보너스 번호가 없어요\n",
    "# 1등은 6개의 번호가 다 맞으면 \n",
    "# 2등은 5개의 번호가 다 맞으면\n",
    "# 3등은 4개의 번호가 다 맞으면\n",
    "# 4등은 3개의 번호가 다 맞으면\n",
    "# 5장의 로도번호가 몇등에 당첨되었는지 출력!\n",
    "## 랜덤번호 추출은 다음의 코드를 이용해요\n",
    "import random\n",
    "# a = random.randint(1,10) # 1이상 10이하 의 정수형 난수 생성\n",
    "# print(a)\n",
    "luck_nm = set()\n",
    "while len(luck_nm) < 6:\n",
    "    luck_nm.add(random.randint(1,45))\n",
    "\n",
    "for i in range(1,6):\n",
    "    lotto = set()\n",
    "    while len(lotto) < 6:\n",
    "        lotto.add(random.randint(1,45))\n",
    "    if len(lotto.intersection(luck_nm)) == 6:\n",
    "        print(\"1등 당첨\")\n",
    "    elif len(lotto.intersection(luck_nm)) == 5:\n",
    "        print(\"2등 당첨\")\n",
    "    elif len(lotto.intersection(luck_nm)) == 4:\n",
    "        print(\"3등 당첨\")\n",
    "    elif len(lotto.intersection(luck_nm)) == 3:\n",
    "        print(\"4등 당첨\")\n",
    "    else:\n",
    "        print(\"다음 기회에\")\n",
    "    print(sorted(lotto))\n",
    "    print(sorted(luck_nm))\n",
    "    print(\"겹치는 번호는 {}입니다\".format( sorted(lotto & luck_nm) ))\n",
    "    \n",
    "# 추가문제 : 1등에 당첨될라면 평균적으로 얼마만큼의 돈을 투자해야 할까요?\n",
    "luck_nm = set()\n",
    "while len(luck_nm) < 6:\n",
    "    luck_nm.add(random.randint(1,45))\n",
    "nCount = 0\n",
    "while True:\n",
    "    lotto = set()\n",
    "    while len(lotto) < 6:\n",
    "        lotto.add(random.randint(1,45))\n",
    "    if len(lotto.intersection(luck_nm)) == 6:\n",
    "        break # 인접한 가장 가까운 loop를 탈출\n",
    "    else:\n",
    "        nCount +=1\n",
    "print(\"{}장 사야 1등에 당첨되요!\".format(nCount))\n",
    "print(\"비용 : {:,}\".format(nCount*1000))\n",
    "print(sorted(luck_nm))"
   ]
  },
  {
   "cell_type": "code",
   "execution_count": 61,
   "metadata": {},
   "outputs": [
    {
     "name": "stdout",
     "output_type": "stream",
     "text": [
      "[2, 3, 5, 7, 11, 13, 17, 19, 23, 29, 31, 37, 41, 43, 47, 53, 59, 61, 67, 71, 73, 79, 83, 89, 97]\n",
      "Wall time: 999 µs\n"
     ]
    }
   ],
   "source": [
    "%%time\n",
    "import math\n",
    "### 문제5\n",
    "# 어떤수를 소수의 곱으로만 나타내는것을 소인수분해라고 합니다\n",
    "# 이 소수들을 그 수의 소인수라고 합니다\n",
    "\n",
    "# 예를 들면 13195의 소인수는 5,7,13,29\n",
    "# 600851475143 의 소인수 중 가장 큰 수는 얼마인가요?\n",
    "\n",
    "p_list = []\n",
    "a = int(600851475143 ** 0.5)\n",
    "\n",
    "for p in range(2,100):\n",
    "    count_divisor = 0\n",
    "    for divisor in range(1,p):\n",
    "        if p % divisor == 0:\n",
    "            count_divisor = count_divisor +1\n",
    "        else:\n",
    "            pass\n",
    "    if count_divisor ==1:\n",
    "            p_list.append(p)\n",
    "    else:\n",
    "        pass\n",
    "print(p_list)\n",
    "\n"
   ]
  },
  {
   "cell_type": "code",
   "execution_count": 8,
   "metadata": {},
   "outputs": [
    {
     "name": "stdout",
     "output_type": "stream",
     "text": [
      "3\n",
      "Wall time: 0 ns\n"
     ]
    }
   ],
   "source": [
    "%%time\n",
    "### 문제6\n",
    "# 앞에서부터 읽을때나 뒤에서부터 읽을때 모양이 같은 수를 대칭수라고 합니다.\n",
    "# 두 자리 수를 곱해서 만들 수 있는 대칭수 중에 가장큰수는 9009 (91 * 99) 입니다.\n",
    "# 세 자리 수를 곱해서 만들 수 잇는 가장 큰 대칭수는?\n",
    "\n",
    "# mirror_list = []\n",
    "# def mirror_nm(a,b):\n",
    "#     for i in range(a,b):\n",
    "#         for j in range(a,b):\n",
    "#             x = i*j\n",
    "#             how_long = long_nm(x)\n",
    "                \n",
    "#             if how_long % 2 ==0:\n",
    "#                 for k in range(n/2 +1):\n",
    "#                     same_test = []\n",
    "#                     if var//10**(n-k) == var% 10**(k+1):\n",
    "#                         same_test.append(True)\n",
    "#                     else:\n",
    "#                         same_test.append(False)\n",
    "#                 if all(same_test) == true:\n",
    "#                     mirror_list.append(var)\n",
    "#                 else:\n",
    "#                     pass                    \n",
    "#             else:\n",
    "#                 for k in range(n/2 +1):\n",
    "#                     same_test = []\n",
    "#                     if var//10**(n-k) == var% 10**(k+1):\n",
    "#                         same_test.append(True)\n",
    "#                     else:\n",
    "#                         same_test.append(False)\n",
    "#                 if all(same_test) == true:\n",
    "#                     mirror_list.append(var)\n",
    "#                 else:\n",
    "#                     pass\n",
    "#     return max(mirror_list)\n",
    "# print(mirror_nm(10,15))\n",
    "\n",
    "\n",
    "# def long_nm(x):\n",
    "#     n = 0\n",
    "#     while x // 10**n >=1 and x // 10**n:\n",
    "#         n +=1\n",
    "#     return n\n",
    "# print(long_nm(124))\n",
    "\n",
    "# def mirror_test(y):\n",
    "#     n = long_nm(y)\n",
    "#     if n%2 == 0:\n",
    "#         for i in range(n/2 + 1):\n",
    "#             same_test = []\n",
    "#             if y//10**(n+1-i) == var% 10**(i+1):\n",
    "#                         same_test.append(True)\n",
    "#                     else:\n",
    "#                         same_test.append(False)\n",
    "#                 if all(same_test) == true:\n",
    "#                     mirror_list.append(var)\n",
    "#                 else:\n",
    "#                     pass\n",
    "\n"
   ]
  },
  {
   "cell_type": "code",
   "execution_count": 17,
   "metadata": {},
   "outputs": [
    {
     "name": "stdout",
     "output_type": "stream",
     "text": [
      "906609\n"
     ]
    }
   ],
   "source": [
    "def check_number(x):\n",
    "    str1 = str(x)\n",
    "    tmp = list(str1)\n",
    "    tmp.reverse()\n",
    "    if str1 == \"\".join(tmp):\n",
    "        return True\n",
    "    else:\n",
    "        return False\n",
    "    \n",
    "def calcul_number(x):      # x가 2 이면 3자리 이런식\n",
    "    result = []\n",
    "    for i in range(10**x,10**(x+1)):\n",
    "        for j in range(10**x,10**(x+1)):\n",
    "            if check_number(i * j):\n",
    "                result.append(i*j)\n",
    "            else:\n",
    "                pass\n",
    "    print(max(result))\n",
    "calcul_number(2)"
   ]
  },
  {
   "cell_type": "code",
   "execution_count": 64,
   "metadata": {
    "scrolled": true
   },
   "outputs": [
    {
     "name": "stdout",
     "output_type": "stream",
     "text": [
      "232792560\n",
      "Wall time: 0 ns\n"
     ]
    }
   ],
   "source": [
    "%%time\n",
    "### 문제7\n",
    "\n",
    "# 1부터 10사이의 어떤수로도 나누어떨어지는 가장 작은 수는 2520\n",
    "# 1부터 20사이의 어떤수로도 나누어떨어지는 가장 작은수는?\n",
    "\n",
    "def prime_list(x):\n",
    "    p_list = []\n",
    "    for p in range(2,x):\n",
    "        count_divisor = 0\n",
    "        for divisor in range(1,p):\n",
    "            if p % divisor == 0:\n",
    "                count_divisor = count_divisor +1\n",
    "            else:\n",
    "                pass\n",
    "        if count_divisor ==1:\n",
    "            p_list.append(p)\n",
    "        else:\n",
    "            pass\n",
    "    return p_list\n",
    "\n",
    "def max_count_prime(p,x):\n",
    "    i=0\n",
    "    while p**i <=x:\n",
    "        i+=1\n",
    "    return(i-1)\n",
    "\n",
    "# def numList(p,x):\n",
    "#     i=1\n",
    "#     k=1\n",
    "#     while k<x:\n",
    "#         k = p**i\n",
    "#         i = i+1\n",
    "#     return int(k/p)\n",
    "# print(numList(2,73))    \n",
    "    \n",
    "    \n",
    "    \n",
    "def least_common_multiple(x):\n",
    "    myList = prime_list(x)\n",
    "    count_list = []\n",
    "    lcm = 1\n",
    "    for p in myList:\n",
    "        n = max_count_prime(p,x)\n",
    "        count_list.append(n)\n",
    "    for i in range(len(myList)):\n",
    "        lcm = lcm * myList[i]**count_list[i]\n",
    "    return lcm\n",
    "print(least_common_multiple(20))\n",
    "\n",
    "\n",
    "# def least_multiple(x):\n",
    "#     count_list = []\n",
    "#     lcm = 1\n",
    "#     for p in prime_list(x):\n",
    "#         n = max_count_prime(p,x)\n",
    "#         count_list.append(n)\n",
    "#     for i in range(len(prime_list(x))):\n",
    "#         lcm = lcm * prime_list(x)[i]**count_list[i]\n",
    "#     return lcm\n",
    "# print(least_multiple(20))"
   ]
  },
  {
   "cell_type": "code",
   "execution_count": 20,
   "metadata": {},
   "outputs": [
    {
     "name": "stdout",
     "output_type": "stream",
     "text": [
      "학생의 이름은 : 홍길동, 평균은 : 14.67\n",
      "학생의 이름은 : 최길동, 평균은 : 47.67\n",
      "학생의 이름은 : 아이유, 평균은 : 95.00\n",
      "학생의 이름은 : 김연아, 평균은 : 19.67\n",
      "학생의 이름은 : 이선희, 평균은 : 38.33\n",
      "학생의 이름은 : 강감찬, 평균은 : 60.00\n",
      "학생의 이름은 : 신사임당, 평균은 : 23.33\n",
      "<student_score.Student object at 0x000001BE80CBACC0>\n",
      "\n",
      "학생의 이름은 : 홍길동, 평균은 : 14.67\n",
      "학생의 이름은 : 최길동, 평균은 : 47.67\n",
      "학생의 이름은 : 아이유, 평균은 : 95.00\n",
      "학생의 이름은 : 김연아, 평균은 : 19.67\n",
      "학생의 이름은 : 이선희, 평균은 : 38.33\n",
      "학생의 이름은 : 강감찬, 평균은 : 60.00\n",
      "학생의 이름은 : 신사임당, 평균은 : 23.33\n",
      "Wall time: 1e+03 µs\n"
     ]
    }
   ],
   "source": [
    "%%time\n",
    "### 문제8\n",
    "# student_score.txt의 내용을 읽어서 학생 성적에 대한 개인 평균을 구하고 성적순으로 출력\n",
    "# 출력형식 : 이름,성적평균,점수\n",
    "# 작성해 보아요\n",
    "# 학생1명의 정보 =>dict로 표현\n",
    "# {\"name\" : \"홍길동\", \"kor\" : 10, \"eng\" : 30,\"math\" : 50}\n",
    "# 이렇게 만든 학생 dict를 list안에 순차적으로 저장\n",
    "# [\n",
    "# {\"name\" : \"홍길동\", \"kor\" : 10, \"eng\" : 30,\"math\" : 50}\n",
    "# {\"name\" : \"김길동\", \"kor\" : 20, \"eng\" : 10,\"math\" : 10}\n",
    "# {\"name\" : \"김연아\", \"kor\" : 30, \"eng\" : 20,\"math\" : 20}\n",
    "# ]\n",
    "\n",
    "import student_score as ss\n",
    "import operator # 정렬을 하기 쉽게하는 모듈\n",
    "\n",
    "result = list() # 학생객체들이 모여있는 리스트\n",
    "studentFile = open(\"student_score.txt\",\"r\")\n",
    "\n",
    "while True:\n",
    "    stu = studentFile.readline().replace(\"\\n\",\"\")\n",
    "    if stu == \"\":\n",
    "        break;\n",
    "    stu_list = stu.split(\",\") # ,를 기준으로 문자열을 분리해서 리스트로 리턴\n",
    "    result.append(ss.Student(stu_list[0],stu_list[1],stu_list[2],stu_list[3])) # Student 객체 완성\n",
    "\n",
    "# 정상적으로 데이터가 생생되엇는지 확인\n",
    "for s in result:\n",
    "    s.print_student()\n",
    "    \n",
    "print(result[1])    \n",
    "# 정렬을 해보아요      attrgetter : property의 값을 추출\n",
    "sorted_result = sorted(result,key=operator.attrgetter(\"sAvg\"))\n",
    "print()\n",
    "for s in result:\n",
    "    s.print_student()"
   ]
  },
  {
   "cell_type": "code",
   "execution_count": 12,
   "metadata": {},
   "outputs": [
    {
     "name": "stdout",
     "output_type": "stream",
     "text": [
      "[1, 3, 4, 6, 8, 9, 10]\n"
     ]
    }
   ],
   "source": [
    "a = [3,6,8,4,9,10,1]\n",
    "\n",
    "a = [학생객체1,학생객체2,학생객체3]\n",
    "# 학생객체가 가지고 잇는 sAvg를 이용해서 객체를 리스트에서 정렬\n",
    "# 외부 module을 이용해서 객체를 리스트에서 정렬해요\n",
    "result = sorted(a)\n",
    "print(result)"
   ]
  },
  {
   "cell_type": "code",
   "execution_count": 66,
   "metadata": {
    "scrolled": false
   },
   "outputs": [
    {
     "ename": "SyntaxError",
     "evalue": "unexpected EOF while parsing (mpg.py, line 24)",
     "output_type": "error",
     "traceback": [
      "Traceback \u001b[1;36m(most recent call last)\u001b[0m:\n",
      "  File \u001b[0;32m\"C:\\Users\\student\\Anaconda3\\envs\\cpu_env\\lib\\site-packages\\IPython\\core\\interactiveshell.py\"\u001b[0m, line \u001b[0;32m3326\u001b[0m, in \u001b[0;35mrun_code\u001b[0m\n    exec(code_obj, self.user_global_ns, self.user_ns)\n",
      "\u001b[1;36m  File \u001b[1;32m\"<ipython-input-66-ea54be5be808>\"\u001b[1;36m, line \u001b[1;32m3\u001b[1;36m, in \u001b[1;35m<module>\u001b[1;36m\u001b[0m\n\u001b[1;33m    import mpg\u001b[0m\n",
      "\u001b[1;36m  File \u001b[1;32m\"C:\\python_DA\\python_Lib\\mpg.py\"\u001b[1;36m, line \u001b[1;32m24\u001b[0m\n\u001b[1;33m    \u001b[0m\n\u001b[1;37m    ^\u001b[0m\n\u001b[1;31mSyntaxError\u001b[0m\u001b[1;31m:\u001b[0m unexpected EOF while parsing\n"
     ]
    }
   ],
   "source": [
    "# 1. displ(배기량)이 4 이하인 자동차와 5 이상인 자동차 중 \n",
    "# 어떤 자동차의 hwy(고속도로 연비)가 평균적으로 더 높은지 확인하세요.\n",
    "import mpg0\n",
    "import operator # 정렬을 하기 쉽게하는 모듈\n",
    "\n",
    "result = list() # 학생객체들이 모여있는 리스트\n",
    "mpgFile = open(\"mpg.txt\",\"r\")\n",
    "\n",
    "while True:\n",
    "    mpg_line = mpgFile.readline().replace(\"\\n\",\"\")\n",
    "    if mpg_line == \"\":\n",
    "        break;\n",
    "    mpg_list = mpg_line.split(\" \") # ,를 기준으로 문자열을 분리해서 리스트로 리턴\n",
    "    print(mpg_list)\n",
    "#     result.append(mpg.car(mpg_list[0],mpg_list[1],mpg_list[2],mpg_list[3],mpg_list[4],mpg_list[5],mpg_list[6],mpg_list[7],mpg_list[8],mpg_list[9],mpg_list[10])\n",
    "                  \n",
    "\n",
    "# 2. 자동차 제조 회사에 따라 도시 연비가 다른지 알아보려고 한다.\n",
    "# \"audi\"와 \"toyota\" 중 어느 manufacturer(제조회사)의 cty(도시 연비)가 평균적으로 더 높은지 확인하세요.\n",
    "\n",
    "# 3. \"chevrolet\", \"ford\", \"honda\" 자동차의 고속도로 연비 평균을 알아보려고 한다.\n",
    "# 이 회사들의 데이터를 추출한 후 hwy(고속도로 연비) 전체 평균을 구하세요.\n",
    "\n",
    "# 4. \"audi\"에서 생산한 자동차 중에 어떤 자동차 모델의 hwy(고속도로 연비)가 높은지 알아보려고 한다.\n",
    "# \"audi\"에서 생산한 자동차 중 hwy가 1~5위에 해당하는 자동차의 데이터를 출력하세요.\n",
    "\n",
    "# 5. mpg 데이터는 연비를 나타내는 변수가 2개입니다.\n",
    "# 두 변수를 각각 활용하는 대신 하나의 통합 연비 변수를 만들어 사용하려 합니다.\n",
    "# 평균 연비 변수는 두 연비(고속도로와 도시)의 평균을 이용합니다. 회사별로 \"suv\" 자동차의 평균 연비를 구한후 내림차순으로 정렬한 후 1~5위까지 데이터를 출력하세요.\n",
    "\n",
    "# 6. mpg 데이터의 class는 \"suv\", \"compact\" 등 자동차의 특징에 따라 일곱 종류로 분류한 변수입니다.\n",
    "# 어떤 차종의 도시 연비가 높은지 비교하려 합니다. class별 cty 평균을 구하고\n",
    "# cty 평균이 높은 순으로 정렬해 출력하세요.\n",
    "\n",
    "# 7. 어떤 회사 자동차의 hwy(고속도로 연비)가 가장 높은지 알아보려 합니다.\n",
    "# hwy(고속도로 연비) 평균이 가장 높은 회사 세 곳을 출력하세요.\n",
    "\n",
    "# 8. 어떤 회사에서 \"compact\" 차종을 가장 많이 생산하는지 알아보려고 합니다.\n",
    "# 각 회사별 \"compact\" 차종 수를 내림차순으로 정렬해 출력하세요."
   ]
  },
  {
   "cell_type": "code",
   "execution_count": 18,
   "metadata": {},
   "outputs": [
    {
     "name": "stdout",
     "output_type": "stream",
     "text": [
      "25164150\n"
     ]
    }
   ],
   "source": [
    "### 문제9\n",
    "# 1부터 10까지 자연수를 각각 제곱해서 더하면\n",
    "## 1**2 + 2**2 + \n",
    "## 1부터 10까지 모두 더한다음 그결과를 제곱하면 3025\n",
    "## 그차이는 3025 - 385 = 2640\n",
    "\n",
    "# 1부터 100까지는?\n",
    "\n",
    "def square_diff(x):\n",
    "    a = 0\n",
    "    s = 0\n",
    "    for i in range(x+1):\n",
    "        a = a + i**2\n",
    "        s = s + i\n",
    "        b =  s**2\n",
    "        c = b - a\n",
    "        i += 1\n",
    "    return c\n",
    "print(square_diff(100))"
   ]
  },
  {
   "cell_type": "code",
   "execution_count": 55,
   "metadata": {},
   "outputs": [
    {
     "name": "stdout",
     "output_type": "stream",
     "text": [
      "104743\n",
      "Wall time: 1min 13s\n"
     ]
    }
   ],
   "source": [
    "%%time\n",
    "### 문제10\n",
    "## 소수를 크기순으로 나열하면 2,3,5,7,11,13,17...\n",
    "## 이때 10,001 번째 소수는 얼마일까요?\n",
    "\n",
    "\n",
    "def nth_prime_number(n):\n",
    "    if n==1:\n",
    "        return 2\n",
    "    count = 1\n",
    "    i = 3\n",
    "    while(count <= n):\n",
    "        if prime_test(i):\n",
    "            count +=1\n",
    "        else:\n",
    "            pass\n",
    "            if count == n:\n",
    "                return i-2\n",
    "            else:\n",
    "                pass\n",
    "        i += 2\n",
    "\n",
    "def prime_test(i):\n",
    "    p = 2\n",
    "    while (p < i):\n",
    "        if i % p == 0:\n",
    "             return False\n",
    "        else:\n",
    "            pass\n",
    "        p +=1\n",
    "    return True \n",
    "\n",
    "print(nth_prime_number(10001))\n"
   ]
  },
  {
   "cell_type": "code",
   "execution_count": 41,
   "metadata": {},
   "outputs": [
    {
     "name": "stdout",
     "output_type": "stream",
     "text": [
      "200\n",
      "375\n",
      "425\n",
      "Wall time: 57 ms\n"
     ]
    }
   ],
   "source": [
    "%%time\n",
    "#문제11\n",
    "import math\n",
    "# 세개의 자연수 a<b<c\n",
    "# a**2 + b**2 = c**2 (3,4,5)\n",
    "# a+b+c=1000 인 피타고라스 수는 1개만 존재\n",
    "# 이때 a*b*c?\n",
    "\n",
    "for c in range(1,500):\n",
    "    for b in range(1,c):\n",
    "        if math.sqrt((c-b)*(c+b)) % 1== 0:\n",
    "            a = math.sqrt((c-b)*(c+b))\n",
    "            if a + b + c ==1000 and a<b:\n",
    "                print(int(a))\n",
    "                print(int(b))\n",
    "                print(int(c))\n",
    "            "
   ]
  },
  {
   "cell_type": "code",
   "execution_count": 116,
   "metadata": {},
   "outputs": [
    {
     "name": "stdout",
     "output_type": "stream",
     "text": [
      "(837799, 524)\n",
      "Wall time: 19 s\n"
     ]
    }
   ],
   "source": [
    "%%time\n",
    "# 문제 12\n",
    "# 양의 정수 n에 대해서, 다음과 같은 계산 과정을 반복합니다\n",
    "# n이 짝수일 경우 n => n/2\n",
    "# n이 홀수일 경우 m => 3*n+1\n",
    "# n=13일경우\n",
    "# 13 => 40 => 20  => 10  => 5  => 16  => 8  => 4 => 2 => 1\n",
    "# 어떤 수로 시작해도 결국은 1로 끝나게 되요\n",
    "\n",
    "# 1,000,000 이하의 수로 시작했을때 1까지 도달하는데 가장 긴과정을 거치는 수는?\n",
    "\n",
    "def max_count(x):\n",
    "    b = 0\n",
    "    maximum =1\n",
    "    for i in range (int(x/2),x+1):\n",
    "        a = rule_count(i)\n",
    "        if b < max(a,b):\n",
    "            maximum = i\n",
    "        else:\n",
    "            maximum=maximum        \n",
    "        b = max(a,b)\n",
    "    return (maximum,b)\n",
    "        \n",
    "def rule_count(a):\n",
    "    count =0\n",
    "    if a ==1:\n",
    "        return count\n",
    "    while a>1:\n",
    "        if a % 2 ==0:\n",
    "            a = a/2\n",
    "            count += 1\n",
    "        else:\n",
    "            a = 3*a +1\n",
    "            count += 1\n",
    "    return count\n",
    "print(max_count(1000000))"
   ]
  },
  {
   "cell_type": "code",
   "execution_count": 87,
   "metadata": {},
   "outputs": [
    {
     "name": "stdout",
     "output_type": "stream",
     "text": [
      "98\n",
      "Wall time: 999 µs\n"
     ]
    }
   ],
   "source": [
    "%%time\n",
    "## 문제 13\n",
    "# 다음과 같은 특성을 가지는 숫자의 개수를 구하는 프로그램을 작성하자\n",
    "# 두개의 숫자(x,y)를 이용합니다 양의 정수 1과 100\n",
    "# x 초과 그리고 y미만인 숫자 중 각 자리의 숫자를 모두 더한 값이 5의 배수가\n",
    "# 되는 숫자를 구하고 해당 숫자가 몇개 인지 출력 \n",
    "# 1초과 100미만 19개\n",
    "# 5초과 500미만 98개\n",
    "# 100초과 10000미만 =>?\n",
    "\n",
    "def digit_sum_test(x,y):\n",
    "    nCount = 0 # 조건에 해당하는 수를 세는것\n",
    "    for i in range(x+1,y):\n",
    "        k = str(i) # 숫자를 문자열로 변환\n",
    "        intSum = 0\n",
    "        for j in range(len(k)):\n",
    "            intSum += int(k[j])\n",
    "        if intSum % 5 == 0:\n",
    "            nCount +=1\n",
    "            \n",
    "    return nCount\n",
    "print(digit_sum_test(5,500))"
   ]
  },
  {
   "cell_type": "code",
   "execution_count": 84,
   "metadata": {},
   "outputs": [
    {
     "name": "stdout",
     "output_type": "stream",
     "text": [
      "6\n"
     ]
    }
   ],
   "source": [
    "# 문제 14\n",
    "# 6자리 이상 9자리 미만의 수를 하나 이용해요\n",
    "# ex) 234567   6522345\n",
    "# 수의 중앙을 기준으로 두개의 수로 분리\n",
    "# 234567 =>(234,567) 6522345 =>(652,345) =>652 =>(6,2) =>6\n",
    "# 두개의 수로 분리한 다음 큰수를 선택\n",
    "# 이작업을 계속 진행 더이상 나눌수 없을때까지 진행\n",
    "\n",
    "\n",
    "def divide_max(x):\n",
    "    k = len(str(x))\n",
    "    if k % 2 ==0:\n",
    "        a = int(x / 10**(k/2))\n",
    "        b = x - a*10**(k/2)\n",
    "    else:\n",
    "        a = int(x / 10**int((k+1)/2))\n",
    "        c = int(x / 10**int((k-1)/2))\n",
    "        b = x - c*10**int((k-1)/2)\n",
    "\n",
    "    if a - b >= 0:\n",
    "        return int(a)\n",
    "    else:\n",
    "        return int(b)\n",
    "    \n",
    "def last_number(x):\n",
    "    a = divide_max(x)\n",
    "    while len(str(a)) >1:\n",
    "        a = divide_max(a)\n",
    "    return a\n",
    "print(last_number(6522345456))\n"
   ]
  },
  {
   "cell_type": "code",
   "execution_count": 127,
   "metadata": {},
   "outputs": [
    {
     "name": "stdout",
     "output_type": "stream",
     "text": [
      "13561\n",
      "Wall time: 15 ms\n"
     ]
    }
   ],
   "source": [
    "%%time\n",
    "def digit_sum(x):\n",
    "    b=0\n",
    "    while x >=1:\n",
    "        a = int(x//10)\n",
    "        b += x % 10\n",
    "        x = a\n",
    "    return b\n",
    "\n",
    "print(digit_sum(2**10000))\n",
    "    "
   ]
  },
  {
   "cell_type": "code",
   "execution_count": null,
   "metadata": {},
   "outputs": [],
   "source": [
    "%%time\n",
    "#문제 15\n",
    "#2**15=32768  각자리수의 합은?   26\n",
    "#2**1000 각자리수 의 합 \n",
    "def ex15(number):\n",
    "        k=str(number)   #숫자를 문자열로 변환 \n",
    "        intSum=0\n",
    "        for j in range(len(k)):\n",
    "            intSum+=int(k[j])\n",
    "       \n",
    "        return intSum\n",
    "\n",
    "print(ex15(2**10000))"
   ]
  },
  {
   "cell_type": "code",
   "execution_count": null,
   "metadata": {},
   "outputs": [],
   "source": [
    "#제 16  (공장에서 부품을 생산해요)\n",
    "#각 부품의 생산정보가 문자열로 제공되요\n",
    "#예)부품생산정보:A7B5C4A1A8B9B3A5A8B9B1C7C1A1B3C7B9B3A7B8A1C9A8C9C7B9C3A5A8B3C9C8A7A8B9C9C7\n",
    "#문자는 부품 이름(ABC) \n",
    "#숫자는 부품의 품질 (1부터 9까지) 숫자가 높을수록 품질이 우수 \n",
    "#생산정보에서 품질이 7이상인 부품만 추출(7미만은 불량품)\n",
    "#겱과)A7A9///\n",
    "#만들어진 결과를 이용해서 부품을 조립\n",
    "#abc가 연속적으로 있으면 제품1개를 조립 \n",
    "#주어진 문자열을 이용해서 총 몇개의 제품을 조립할 수 있나요\n",
    "#x개~\n",
    " \n",
    "\n",
    "\n"
   ]
  },
  {
   "cell_type": "code",
   "execution_count": null,
   "metadata": {},
   "outputs": [],
   "source": [
    "##패턴 매칭  문제 (정규식이용)\n",
    "import re #정규식을 이용하기위한 모듈을 포함\n",
    "itemSequence=\"A7B5C4A1A8B9B3A5A8B9B1C7C1A1B3C7B9B3A7B8A1C9A8C9C7B9C3A5A8B3C9C8A7A8B9C9C7\"\n",
    "#정규식을 하나 만들어요 \n",
    "regex=re.compile(\".[789]\")\n",
    "result=regex.findall(itemSequence)\n",
    "valid_str= \"\".join(result)\n",
    "print(valid_str)\n",
    "regex=re.compile(\"A.B.C.\")\n",
    "result=regex.findall(valid_str)\n",
    "print(result)\n"
   ]
  },
  {
   "cell_type": "code",
   "execution_count": 7,
   "metadata": {},
   "outputs": [
    {
     "name": "stdout",
     "output_type": "stream",
     "text": [
      "648\n"
     ]
    }
   ],
   "source": [
    "#문제 17\n",
    "#10! 의 각자리수의 합\n",
    "def digit_sum(x):\n",
    "    b=0\n",
    "    while x >=1:\n",
    "        a = int(x//10)\n",
    "        b += x % 10\n",
    "        x = a\n",
    "    return b\n",
    "\n",
    "def n_factorial(n):\n",
    "    k = 1\n",
    "    for i in range(1,n+1):\n",
    "        k = k*i\n",
    "    return k\n",
    "\n",
    "print(digit_sum(n_factorial(100)))\n",
    "# print(ex15(n_factorial(100)))"
   ]
  },
  {
   "cell_type": "code",
   "execution_count": 66,
   "metadata": {},
   "outputs": [
    {
     "name": "stdout",
     "output_type": "stream",
     "text": [
      "['15', '5', '9', '5', '7', '8', '9', '15', '44', '54', '15', '67', '32', '25', '48', '98', '44', '10', '56', '3']\n"
     ]
    }
   ],
   "source": [
    "# 문제 18\n",
    "# 최소 10개 최대 20개의 숫자로 구성된 숫자목록을 이용해요\n",
    "# 1345792347\n",
    "# 숫자목록을 재배치하려고 해요\n",
    "# 1. 앞에서 4개를 선택해요\n",
    "# ->1345 합 13\n",
    "# ->3154 로 바뀜\n",
    "# 2. 한칸 전진해서 1의 과정 반복\n",
    "# 3[1547]923\n",
    "# 3[5174]923\n",
    "# 35[1749]2347\n",
    "# 35[7194]2347\n",
    "# ....\n",
    "# 3. 가장큰 합은 얼마인가요? 그때 4개의 숫자는 순서대로 무엇인가요\n",
    "\n",
    "# def change_position(x):\n",
    "#     my_list = list()\n",
    "#     change_list = list()\n",
    "#     b=0\n",
    "#     while x >=1:\n",
    "#         a = int(x//10)\n",
    "#         b = x % 10\n",
    "#         x = a\n",
    "#         my_list.append(b)\n",
    "#     change_list = [my_list[2],my_list[3],my_list[0],my_list[1]]\n",
    "#     return change_list[0]*1000 + change_list[1]*100 + change_list[2]*10 + change_list[3]\n",
    "# print(change_position(1234))\n",
    "\n",
    "num_seq = \"10,15,3,5,9,5,7,8,9,15,44,54,15,67,32,25,48,98,44,56\"\n",
    "def switch(x):\n",
    "    k = x.split(',')\n",
    "    int_sum = 0\n",
    "    for i in range(len(k)-3):\n",
    "        p = k[i:i+4]\n",
    "        q = map(int, p)\n",
    "        int_sum += sum(q)\n",
    "        k[i] = p[1]\n",
    "        k[i+1]=p[0]\n",
    "        k[i+2]=p[3]\n",
    "        k[i+3]=p[2]\n",
    "    return k\n",
    "print(switch(num_seq))        \n"
   ]
  },
  {
   "cell_type": "code",
   "execution_count": 57,
   "metadata": {},
   "outputs": [
    {
     "name": "stdout",
     "output_type": "stream",
     "text": [
      "[2, 7, 8, 3, 9, 1, 5, 4, 6, 0]\n"
     ]
    }
   ],
   "source": [
    "# 문제 19\n",
    "# 어떤 대상을 순서대로 나열할것을 순열이라고 합니다.\n",
    "# 예를 들어, 3124 는 1,2,3,4로 만들 수 있는 순열 중 하나에요\n",
    "\n",
    "# 순열을 만들때 사전식으로 순열을 만들 수 있아요\n",
    "# 0,1,2\n",
    "# 사전식 순열을 만들면 012 021 102 120 201 210 이렇게 되요\n",
    "# 0부터 9로 만들수 있는 사전식 순열에서\n",
    "# 1,000,000 번 째 값은 무엇인가요?\n",
    "\n",
    "def n_factorial(n):\n",
    "    k = 1\n",
    "    for i in range(1,n+1):\n",
    "        k = k*i\n",
    "    return k\n",
    "\n",
    "\n",
    "def nth_numList(x):\n",
    "    numList=[]\n",
    "    mylist=[]\n",
    "    a = [0,1,2,3,4,5,6,7,8,9]\n",
    "    for i in [9,8,7,6,5,4,3,2,1,0]:\n",
    "        n=1\n",
    "        while x>n_factorial(i):\n",
    "            x = x-n_factorial(i)\n",
    "            n +=1\n",
    "        numList.append(n-1)\n",
    "    for i in numList:\n",
    "        b = a.pop(i)\n",
    "        mylist.append(b)\n",
    "    return mylist\n",
    "print(nth_numList(1000000))\n",
    "\n",
    "\n",
    "\n",
    "\n",
    "    \n"
   ]
  }
 ],
 "metadata": {
  "kernelspec": {
   "display_name": "[CPU_ENV]",
   "language": "python",
   "name": "cpu_env"
  },
  "language_info": {
   "codemirror_mode": {
    "name": "ipython",
    "version": 3
   },
   "file_extension": ".py",
   "mimetype": "text/x-python",
   "name": "python",
   "nbconvert_exporter": "python",
   "pygments_lexer": "ipython3",
   "version": "3.6.9"
  }
 },
 "nbformat": 4,
 "nbformat_minor": 2
}
