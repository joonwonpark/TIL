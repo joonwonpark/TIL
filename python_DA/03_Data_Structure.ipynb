{
 "cells": [
  {
   "cell_type": "code",
   "execution_count": 33,
   "metadata": {},
   "outputs": [
    {
     "name": "stdout",
     "output_type": "stream",
     "text": [
      "3.14\n",
      "money\n",
      "True\n",
      "[10]\n",
      "['the', 'money']\n",
      "[1, 3]\n"
     ]
    }
   ],
   "source": [
    "# Sequence Type\n",
    "# list (Python의 가장 기본적인 자료구조)\n",
    "# 임의의 객체를 순차적으로 저장하는 구조\n",
    "# R에서의 벡터와 같이 1차원 선형구조지만 다른점은 다양한 타입이 들어올수 있음 (숫자 ,문자 등)\n",
    "# 기호로는 []를 이용\n",
    "myList = list() # 비어잇는 list를 생성\n",
    "myList = [] # list를 literal로 표현\n",
    "myList = [1,2,3] # 3개의 값을 가지는 list를 생성\n",
    "myList = [1,3.14,True,\"아우성!!\"] # 모든 데이터 타입을 다 저장가능\n",
    "myList = [10,[\"Show\",\"me\",\"the\",\"money\"],3.14,True]\n",
    "# List안에 또 다른 자료구조들을 넣을 수 있어요\n",
    "print(myList[2])\n",
    "print(myList[1][3])\n",
    "print(myList[-1])\n",
    "print(myList[0:1]) # 0이상 1미만 이므로 0번째만, slicing결과는 원본자료구조와 동일\n",
    "print(myList[1][2:]) # ['the', 'money']\n",
    "\n",
    "# List의 연산\n",
    "# a = [1,2,3]\n",
    "# b = [4,5,6]\n",
    "# print(a+b) # R에서 c()함수와 동일\n",
    "# print(a*3)\n",
    "\n",
    "a = [1,2,3]\n",
    "# a[0] = 5  # 5,2,3\n",
    "# a[1:] = [] # [7] 뒤쪽 비우기\n",
    "# a[0:1] = [7,8,9] # [7,8,9,2,3]\n",
    "# a[0] = [7,8,9]\n",
    "del a[1]\n",
    "print(a)\n"
   ]
  },
  {
   "cell_type": "code",
   "execution_count": 109,
   "metadata": {},
   "outputs": [
    {
     "name": "stdout",
     "output_type": "stream",
     "text": [
      "[1, 2, 4, 5]\n",
      "3\n",
      "1897053504\n",
      "True\n",
      "False\n",
      "True\n",
      "True\n",
      "False\n"
     ]
    }
   ],
   "source": [
    "# list에 적용할 수 있는 함수\n",
    "a = [1,2,3]\n",
    "# a.append(\"Hello\")\n",
    "# a.append([4,5,6]) # List의 맨 마지막칸을 생성하고 그안에 데이터를 저장  => [1, 2, 3, [4, 5, 6]]\n",
    "# a.extend([4,5,6]) # List를 확장 => [1, 2, 3, 4, 5, 6]\n",
    "# print(a)\n",
    "\n",
    "a = [7,3,9,4,6,1,8]\n",
    "# List를 정렬(오름차순, 내림차순)\n",
    "result = a.sort() # 일반적으로 (a 는 불변, result는 정렬된 결과)처럼 인식, 그러나 틀림\n",
    "print(result) # None\n",
    "print(a) # 원본이 바뀜\n",
    "# 따라서\n",
    "a.sort() # 이렇게 사용함 변수 생성할 필요 X , list가 가지고 잇는 함수\n",
    "result = sorted(a) # python이 제공하는 함수 원본 불변\n",
    "print(result)\n",
    "\n",
    "a = [\"Hello\",\"kaka\",\"World\",\"haha\"]\n",
    "a.sort() # 정렬의 기본은 오름차순\n",
    "         # 문자일 경우 ASKII 코드를 기반으로 정렬\n",
    "print(a)\n",
    "\n",
    "a = [\"홍길동\",\"최길동\",\"아이유\",\"김연아\",\"신사임당\"]\n",
    "a.sort(reverse=True) # 내림차순 정렬\n",
    "print(a)\n",
    "\n",
    "a = [1,2,3,4,5]\n",
    "# print(a.index(2)) # 2를 찾은다음 찾은 위치를 return\n",
    "# a.insert(0,\"Hello\") # 0번째 자리에 Hello를 삽입\n",
    "# a.remove(3)           # 첫번째로 발견한 요소(3)를 삭제 \n",
    "# print(a.pop()) # 맨 마지막 요소를 뜨어옴\n",
    "# print(a.pop(2)) # 지정한 위치의 요소를 뜯어옴\n",
    "# print(a)\n",
    "\n",
    "a = [1,2,3,4,5,1,2,1,3,4]\n",
    "print(a.count(1)) # 1이 몇개냐 list안에 내가 찾으려는 요소가 몇개가 있는지를 return\n",
    "\n",
    "####################################################################################################\n",
    "a = 100 # 메모리 상에 100과 그 주소가 만들어지고  a=100의 주소 라고 입력됨\n",
    "print(id(a)) #189753504 이게 100의 주소임 (달라질수 있음)\n",
    "\n",
    "a = [1,2,3]\n",
    "b = [1,2,3]\n",
    "# 메모리상에 [1,2,3]이 2개가 만들어지고 둘의 주소값은 다름\n",
    "# id(a) 와 id(b)는 다름\n",
    "print(a == b) # a와 b의 내용이 같니? True\n",
    "# 그런데\n",
    "print(a is b) # a와 b가 완전히 똑같니? False 둘의 주소값이 다름\n",
    "\n",
    "a =[1,2,3]\n",
    "b = a # a안의 [1,2,3]의 주소를 복사\n",
    "# 따라서\n",
    "print(a is b) #True\n",
    "\n",
    "b = a[:] # 얘는 b = [1,2,3] 을 입력한것과 동일\n",
    "print(a == b) # True\n",
    "print(a is b) # False"
   ]
  },
  {
   "cell_type": "code",
   "execution_count": 73,
   "metadata": {},
   "outputs": [
    {
     "name": "stdout",
     "output_type": "stream",
     "text": [
      "1\n",
      "(1, 2)\n",
      "10\n"
     ]
    }
   ],
   "source": [
    "# Sequence Type : tuple\n",
    "# list와 거의 동일\n",
    "# 표현하는 방식이 다름\n",
    "# list는 대괄호로 표현 []\n",
    "# tuple은 소괄호로 표현 ()\n",
    "# a = () # empty tuple\n",
    "# myList = [1] # 요소가 1개인 list\n",
    "# print(type(myList)) # list\n",
    "# myTuple = (1) # 요소가 1개인 tuple (잘못된표현)\n",
    "# print(type(myTuple)) #Int\n",
    "# myTuple = (1,) # 바른 표현\n",
    "# print(type(myTuple)) # tuple\n",
    "\n",
    "myTuple =(1,2,3)\n",
    "myTuple = 1,2,3 # ()는 생략 가능\n",
    "# tuple은 list와 비슷해요\n",
    "print(myTuple[0])\n",
    "print(myTuple[0:2])  # indexing & slicing 둘다 list처럼 가능\n",
    "# myTuple[0] = 100 # error!!! tuple은 list와 달리 값을 바꿀수 없음\n",
    "\n",
    "a,b,c = 10,20,30\n",
    "(a,b,c) = (10,20,30)\n",
    "print(a) #10\n"
   ]
  },
  {
   "cell_type": "code",
   "execution_count": 103,
   "metadata": {},
   "outputs": [
    {
     "name": "stdout",
     "output_type": "stream",
     "text": [
      "range(0, 10)\n",
      "range(1, 11, 2)\n"
     ]
    }
   ],
   "source": [
    "## Sequence type: range\n",
    "\n",
    "# range() 함수\n",
    "# 숫자 영역을 잡는 함수\n",
    "# R의 seq와 비슷하지만, 앞은 inclusive 뒤는 exclusive\n",
    "# R과 달리 range 영역으로만 나오고 숫자가 하나씩 다 나오지 않음\n",
    "# 이후에 for와 같은 구문에서 사용 \n",
    "range1 = range(10)\n",
    "print(range1)\n",
    "range2 = range(1,11,2)   #1,3,5,7,9의 형태로 인식하면됨\n",
    "print(range2)"
   ]
  },
  {
   "cell_type": "code",
   "execution_count": 99,
   "metadata": {
    "scrolled": true
   },
   "outputs": [
    {
     "name": "stdout",
     "output_type": "stream",
     "text": [
      "name - 홍길동\n",
      "age - 20\n",
      "address - 서울\n",
      "True\n"
     ]
    }
   ],
   "source": [
    "# Sequence Type는 결과적으로 3개가 존재\n",
    "# list tuple, range\n",
    "\n",
    "# Mapping Type : dict [dictionary]\n",
    "# key와 value의 쌍으로 표현되는 자료구조\n",
    "# JSON({name : \"홍길도\", age : 30})\n",
    "# a = {\"name\" : \"홍길동\", \"age\" : 30}\n",
    "# print(type(a))\n",
    "# key값은 불변의 값을 사용해야 해요!\n",
    "# list는 key로 사용을 할 수 가 없지만 tuple은 key로 사용할 수 있음\n",
    "# a[10] = \"hohoho\" # 10을 키로 value는 hohoho\n",
    "# print(a)\n",
    "# a[\"hobby\"] = \"Game\"\n",
    "# print(a)\n",
    "# print(a[\"age\"])\n",
    "\n",
    "# a = {\"name\" : \"홍길동\", \"age\" : 30, \"age\" : 40} # 키값이 동일하면 안됨  age 중에 어떤게 쓰일지 모름\n",
    "# print(a)\n",
    "\n",
    "# a = {\"name\" : \"홍길동\", (\"address\",) : \"서울\" } # tuple도 키값으로 사용가능\n",
    "# print(a)\n",
    "# print(a[(\"address\",)])\n",
    "\n",
    "####################################################\n",
    "# dict 함수\n",
    "a = {\"name\" : \"홍길동\", \"age\" : 20, \"address\" : \"서울\" }\n",
    "# value을 가져오고 싶다 => key를 알아야함\n",
    "# print(a.keys()) # dict_keys(['name', 'age', 'address']) : list와 유사한 자료구조 (list는 아님)\n",
    "# myKey = a.keys()\n",
    "# print(myKey)\n",
    "# myList = list(myKey)\n",
    "# print(myList) # key값을 가지고 list를 만들음\n",
    "# myValue = a.values() \n",
    "# print(myValue) # dict_values(['홍길동', 20, '서울'])\n",
    "# myItem = a.items()\n",
    "# print(myItem) # dict_items([('name', '홍길동'), ('age', 20), ('address', '서울')]) tuple로 묶을수 있음\n",
    "# dict안에 있는 모든 key와 value를 출력하세요\n",
    "# for문을 이용해서\n",
    "a = {\"name\" : \"홍길동\", \"age\" : 20, \"address\" : \"서울\" }\n",
    "for k in a.keys():\n",
    "    print(\"{} - {}\".format(k,a[k]))\n",
    "\n",
    "print(\"age\" in a) # 특정 key값이 dict안에 있는지 확인"
   ]
  },
  {
   "cell_type": "code",
   "execution_count": 106,
   "metadata": {
    "scrolled": true
   },
   "outputs": [
    {
     "name": "stdout",
     "output_type": "stream",
     "text": [
      "서울이 있어요!\n",
      "k값은 : 0\n",
      "k값은 : 1\n",
      "k값은 : 2\n",
      "k값은 : 3\n",
      "k값은 : 4\n",
      "k값은 : 5\n",
      "k값은 : 6\n",
      "k값은 : 7\n",
      "k값은 : 8\n",
      "k값은 : 9\n",
      "test값은 1\n",
      "test값은 2\n",
      "test값은 3\n",
      "test값은 4\n",
      "test값은 5\n",
      "test값은 6\n",
      "test값은 7\n",
      "test값은 8\n",
      "test값은 9\n"
     ]
    }
   ],
   "source": [
    "# 제어문\n",
    "# if 문\n",
    "area = [\"seoul\", \" pusan\",\"jeju\"]\n",
    "\n",
    "if \"suwon\" in area:\n",
    "    pass # 하는 일이 아무것도 없을 때 사용\n",
    "elif \"seoul\" in area:\n",
    "    print(\"서울이 있어요!\")\n",
    "else:\n",
    "    print(\"기타등등!\")\n",
    "    \n",
    "    \n",
    "for k in range(10):\n",
    "    print(\"k값은 : {}\".format(k))\n",
    "    \n",
    "    \n",
    "test = 1\n",
    "while test < 10:\n",
    "    print(\"test값은 {}\".format(test))\n",
    "    test += 1 # test = test + 1"
   ]
  },
  {
   "cell_type": "code",
   "execution_count": null,
   "metadata": {},
   "outputs": [],
   "source": [
    "## python\n",
    "## 1. 환경설정\n",
    "##    - PyCharm IDE를 이용해서 개발\n",
    "##      여러명이 같은 파일, 같은 프로젝트를 공유하면서 개발할 때 유리\n",
    "##      Interactive한 개발은 힘들다\n",
    "##      함수명을 변수로설정하면 함수의 기능이 없어진다!(주의!!!) sum = 1000\n",
    "##      만약에 이렇게 변수를 설정하면 껐다가 다시 키자\n",
    "##      데이터분석 작업보다는  Web개발이나 다른 application작성\n",
    "##    - jupyter Notebook\n",
    "##      Interactive한 개발이 가능해서 데이터 분석에 대한 학습이나 실제 분석작업을 많이 한다.\n",
    "##      여러명이 공도작업할 때는 불편!\n",
    "## 2. jupyter notebook 사용방법\n",
    "##    - cell 생성, cell안의 코드 실행방법\n",
    "##    - cell 삭제\n",
    "##    - 무한루프가 되면 실행 interrupt 눌러라\n",
    "## 3. python bult-in types\n",
    "##    - Numeric(int, float, complex)\n",
    "##    - Text Sequence Type(str)\n",
    "##    - Sequence Type (list, tuple, range)\n",
    "##    - Mapping Type(dict)\n",
    "##    - Bool type(bool) (True, False)\n",
    "##    - and, or, not : 논리연산자\n",
    "##    - & : 비교연산자 bitwise연산\n",
    "##    - pyrhon에서 숫자 0 은 False, 0이 아닌 모든 수는 True\n",
    "##    - python에서 False는 숫자 0으로 변환, False는 1\n",
    "##    - True & False => 1 & 0 => 0001 & 0000 => 0000 => 0 => False\n",
    "##    - python은 다음의 경우를 False로 간주 ( 숫자 0, 빈 문자열(\"\"), 빈 리스트([]), 반 튜플(()), 빈 dict({}), None )\n",
    "result = True and False\n",
    "result = True or False\n",
    "result = not True\n",
    "print(result)\n",
    "print(bool(1000)) # True\n",
    "print(int(False)) # 0\n",
    "print(int(True)) # 1\n"
   ]
  },
  {
   "cell_type": "code",
   "execution_count": null,
   "metadata": {},
   "outputs": [],
   "source": [
    "## python bult-in types\n",
    "# Set\n",
    "# 어떻게 생겼나요?? => {}\n",
    "# {}는 기본적으로 dict, dict는 {} 안에 key와 value로 구성\n",
    "# set은 [] 안에 요소만 들어감\n",
    "# a = {\"name\" : \"홍길동\", \"age\" : 20} # dict\n",
    "# a = {1,2,3} # set\n",
    "\n",
    "a= set([1,2,3,4,1,2,3,1,1]) # set은 중복을 배제\n",
    "print(a)\n",
    "a = set(\"Hello\")\n",
    "print(a)\n",
    "a = {1,2,3,4}\n",
    "b = {3,4,5,6}\n",
    "\n",
    "# set => 집합 ( 집합연산 : 교집합, 합집합, 차집합)\n",
    "print(a & b)\n",
    "print(a.intersection(b))\n",
    "print(a | b)\n",
    "print(a.union(b))\n",
    "print(a - b)\n",
    "print(a.difference(b))\n",
    "\n",
    "mySet = {1,2,3,4,5}\n",
    "mySet.add(7) # add()는 set에 원하는 요소 1개를 추가\n",
    "print(mySet)\n",
    "mySet.update([10,11,12]) # set에 여러개 추가할때\n",
    "print(mySet)\n",
    "mySet.remove(1)\n",
    "print(mySet)"
   ]
  }
 ],
 "metadata": {
  "kernelspec": {
   "display_name": "[CPU_ENV]",
   "language": "python",
   "name": "cpu_env"
  },
  "language_info": {
   "codemirror_mode": {
    "name": "ipython",
    "version": 3
   },
   "file_extension": ".py",
   "mimetype": "text/x-python",
   "name": "python",
   "nbconvert_exporter": "python",
   "pygments_lexer": "ipython3",
   "version": "3.6.9"
  }
 },
 "nbformat": 4,
 "nbformat_minor": 2
}
