{
 "cells": [
  {
   "cell_type": "code",
   "execution_count": 1,
   "metadata": {},
   "outputs": [],
   "source": [
    "#한줄 주석은 #으로 R과 동일해요\n",
    "\n",
    "\"\"\"\n",
    "이 안에 있는건 모두 주석처리\n",
    "\"\"\"\n",
    "\n",
    "'''\n",
    "이것도 주석주석\n",
    "'''\n",
    "\n",
    "'''\n",
    "항상 코드 작성후 저장하는 습관을 가지자 ctrl+s\n",
    "python의 장점? \n",
    "-배우기 쉽다.\n",
    "-강력한 데이터 분석 library(현재가장 인기가 좋다)\n",
    "-오픈 소스, 무료사용\n",
    "-R에 비해서 범용적인 사용이 가능!\n",
    "-데이터 분석결과를 다른 시스템과 연동키실 때 좋다!\n",
    "-하위 호환성이 없다ㅠ / 2. 3. 버젼이 달라요\n",
    "-PyCharm 혹은 jupyter notebook으로 작업\n",
    "'''\n",
    "\n",
    "'''\n",
    "아래쪽에 cell을 만들고 싶으면 cell 바깥에서 'b' 입력 위쪽에 만들고 싶으면 'a' 입력\n",
    "cell을 삭제하고 싶으면 'dd' 입력\n",
    "'''"
   ]
  },
  {
   "cell_type": "code",
   "execution_count": 8,
   "metadata": {},
   "outputs": [
    {
     "name": "stdout",
     "output_type": "stream",
     "text": [
      "['False', 'None', 'True', 'and', 'as', 'assert', 'break', 'class', 'continue', 'def', 'del', 'elif', 'else', 'except', 'finally', 'for', 'from', 'global', 'if', 'import', 'in', 'is', 'lambda', 'nonlocal', 'not', 'or', 'pass', 'raise', 'return', 'try', 'while', 'with', 'yield']\n"
     ]
    }
   ],
   "source": [
    "#python의 keyword\n",
    "#keyword module을 로딩해야함 / R에서 라이브러리를 인스톨하고 라이브러리를 로드했던 것과 동일\n",
    "import keyword\n",
    "\n",
    "#output영영에 출력할 때 사용하는 함수 : print()\n",
    "print(keyword.kwlist)\n",
    "#영문자 'O'를 누르면 output영역 확인가능 'L'은 라인번호에 대한 확인가능 / toggle기능\n",
    "#A : 위쪽영역에 cell 삽입\n",
    "#B : 아래쪽 영역에 Cell 삽입\n",
    "#D,D : 현재 cell을 삭제\n",
    "# ctrl + enter 현재 cell 실행\n",
    "# alt + enter 현재 cell실행하고 아래쪽에 새로운 cell을 삽입\n",
    "# shift + enter 현재 cell을 실행하고 아래쪽 cell을 선택\n",
    "# in[] : 몇번 수행시켰는지 확인할 수 있다."
   ]
  },
  {
   "cell_type": "code",
   "execution_count": 12,
   "metadata": {},
   "outputs": [
    {
     "data": {
      "text/plain": [
       "200"
      ]
     },
     "execution_count": 12,
     "metadata": {},
     "output_type": "execute_result"
    }
   ],
   "source": [
    "## 변수를 생성하고 삭제해 보자\n",
    "\n",
    "var1 = 100    # ; 은 생략이 가능\n",
    "var2 = 200\n",
    "var1\n",
    "var2          # 200만 출력된다 cell자체가 수행되기 때문"
   ]
  },
  {
   "cell_type": "code",
   "execution_count": 4,
   "metadata": {},
   "outputs": [
    {
     "name": "stdout",
     "output_type": "stream",
     "text": [
      "100\n",
      "var2의 값은 :  200\n"
     ]
    }
   ],
   "source": [
    "## 변수를 생성하고 삭제해 보자\n",
    "\n",
    "var1 = 100    # ; 은 생략이 가능 변수설정\n",
    "var2 = 200\n",
    "print(var1)   #output에 출력할 때 print()를 이용\n",
    "print(\"var2의 값은 : \",var2) #인자를 여러개 줄수 있다. 여러개의 인자를 하나씩 출력한다.\n",
    "\n",
    "del var2      # var2를 메모리에서 삭제"
   ]
  }
 ],
 "metadata": {
  "kernelspec": {
   "display_name": "[CPU_ENV]",
   "language": "python",
   "name": "cpu_env"
  },
  "language_info": {
   "codemirror_mode": {
    "name": "ipython",
    "version": 3
   },
   "file_extension": ".py",
   "mimetype": "text/x-python",
   "name": "python",
   "nbconvert_exporter": "python",
   "pygments_lexer": "ipython3",
   "version": "3.6.9"
  }
 },
 "nbformat": 4,
 "nbformat_minor": 2
}
