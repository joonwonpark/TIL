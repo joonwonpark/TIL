{
 "cells": [
  {
   "cell_type": "code",
   "execution_count": 6,
   "metadata": {},
   "outputs": [
    {
     "name": "stdout",
     "output_type": "stream",
     "text": [
      "3.141592\n",
      "3.141592\n",
      "30\n"
     ]
    }
   ],
   "source": [
    "##  Python의 module\n",
    "\n",
    "\n",
    "\n",
    "# module: 하나의 python file, source code; 변수, 함수, class\n",
    "# 재사용하기 위해 만든 파일\n",
    "# python의 module은 다른 python 프로그램에서 불러와 사용할 수 있는 python file을 지칭\n",
    "\n",
    "# 1. 생성된 modele 저장\n",
    "# 생성한 module은 어디에 저장을 해두어야 하는가?\n",
    "import sys     #sys라는 module 불러와서 사용\n",
    "\n",
    "# sys.path.append(\"주소\"): module을 저장할 주소를 저장 \n",
    "# 폴더 만들고 주소 찍기\n",
    "sys.path.append(\"C:/python_Lib\")\n",
    "\n",
    "# jupyter에서 txt 파일 하나 만듦\n",
    "# 이름 설정.py\n",
    "# python 으로 저장하였기 때문에 안에 module 저장됨\n",
    "# 다만 cell이 있는 것이 아니기에 실행은 불가 \n",
    "# module1.py\n",
    "# 해당 txt 파일에 module 코드를 작성해서 저장\n",
    "# 해당 txt 파일은 기존 python 파일이 저장되는 python_DA에 저장되있음\n",
    "# 이를 위에서 만든 파일로 옮겨줌; python_Lib\n",
    "# 그래야지 우리가 위에서 지정한 주소에서 module 파일을 가져올 수 있음\n",
    "\n",
    "# 2. module 사용; 파일 자체 import\n",
    "# import module이름\n",
    "# 이때의 module 이름이란 = 파일이름\n",
    "# 이때, 확장자 명은 빼고 적음\n",
    "# import module1 \n",
    "# 이제 module1 파일에 작성한 변수 및 함수를 사용할 수 있음\n",
    "# 해당 module이 가진 함수 사용시; module이름\n",
    "# print(module1.module_Pi)\n",
    "# print(module1.mySum(10,20))\n",
    "\n",
    "# 항상 쓸때마다 module1을 앞에 써줘야함\n",
    "# 보다 간단하게 작성 가능\n",
    "'''import module1 as m\n",
    "\n",
    "print(m.module_PI)\n",
    "print(m.mySum(10,20))'''\n",
    "\n",
    "# 3. module 사용; 파일 내 특정 module import\n",
    "# from module이름 import (module 함수,변수,class) \n",
    "# 해당 module로부터 특정 함수, 변수, class 가져옴 \n",
    "'''from module1 import module_PI\n",
    "print(module_PI)'''\n",
    "\n",
    "# 해당 module의 모든 함수를 들고와; * 사용\n",
    "'''from module1 import *\n",
    "print(mySum(10,20))\n",
    "'''\n",
    "# 4. package\n",
    "# '.' 기호를 이용해서 module을 계층적으로 관리\n",
    "# 물리적으로 표현시, 하나의 폴더 개념; 폴더 내에 module을 넣음 \n",
    "# 논리적으로 표현시, 모듈을 계층적으로 관리\n",
    "# A.B라고 할 때, A:package, B: module; A라는 폴더에 있는 B라는 모듈 의미\n",
    "\n",
    "import myPackage.module1\n",
    "# python_Lib 내에 myPackage 라는 폴더 생성하여 거기에 module1 파일 넣기\n",
    "\n",
    "print(myPackage.module1.module_PI)\n",
    "\n",
    "from myPackage import module1\n",
    "from myPackage.module1 import *\n",
    "# package를 만들어서 거기로부터 파일 불러오기\n",
    "print(module_PI)\n",
    "print(mySum(10,20))\n",
    "\n",
    "\n",
    "# 5. 환경변수 설정\n",
    "# 환경변수 PYTHONPATH 라는겋 만들어서 여기에 module을 넣어 놓으면 프로그램 어디서나 사용 가능\n",
    "# 미설정시, jupyter 재 실행시마다 import 해줘야 함 \n",
    "# 내 PC; 속성; 환경설정; 새로만들기; PYTHONPATH이름으로 python_Lib 연결; jupyter 재실행 \n",
    "\n"
   ]
  }
 ],
 "metadata": {
  "kernelspec": {
   "display_name": "[CPU_ENV]",
   "language": "python",
   "name": "cpu_env"
  },
  "language_info": {
   "codemirror_mode": {
    "name": "ipython",
    "version": 3
   },
   "file_extension": ".py",
   "mimetype": "text/x-python",
   "name": "python",
   "nbconvert_exporter": "python",
   "pygments_lexer": "ipython3",
   "version": "3.6.9"
  }
 },
 "nbformat": 4,
 "nbformat_minor": 2
}
