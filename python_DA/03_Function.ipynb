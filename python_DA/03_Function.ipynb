{
 "cells": [
  {
   "cell_type": "code",
   "execution_count": 3,
   "metadata": {},
   "outputs": [
    {
     "name": "stdout",
     "output_type": "stream",
     "text": [
      "10\n",
      "10\n"
     ]
    }
   ],
   "source": [
    "# function(함수)\n",
    "a = [1,2,3,4]\n",
    "\n",
    "mySum = 0\n",
    "for i in a:\n",
    "    mySum += i\n",
    "print(mySum)\n",
    "\n",
    "mySum = sum(a) # python의 내장함수를 이용해서 처리\n",
    "print(mySum)\n",
    "\n",
    "# 숫자를 입력받아서                        => 단위기능으로 간주 => 함수\n",
    "# 해당숫자를 모두 더한 후                  => 단위기능으로 간주 => 함수\n",
    "# 결과 값은 : XX입니다 형식으로 출력       => 함수\n",
    "\n",
    "# 이렇게 함수기반의 프로그래밍 방식을 절차적 프로그래밍(procedural programing)\n",
    "\n",
    "# python에서 함수는 크게 2가지로 구분\n",
    "# 내장함수(sum()), 사용자 정의 함수(user define 함수)\n",
    "# 사용자 정의함수를 만드는 keyword는 def"
   ]
  },
  {
   "cell_type": "code",
   "execution_count": 3,
   "metadata": {},
   "outputs": [
    {
     "name": "stdout",
     "output_type": "stream",
     "text": [
      "100 200 300\n",
      "입력받은 값은 : 100 200 300\n",
      "최종결과는 600\n"
     ]
    }
   ],
   "source": [
    "# 함수의 정의 (definition) => 함수의 이름, 인자형태, 인자개수 + 기능구현\n",
    "# 함수의 선언 (declaration) => 함수의 이름, 인자형태, 인자개수\n",
    "# 함수이름은 소문자로 시작(관용적)\n",
    "def mySum(a,b,c):\n",
    "    total = a + b + c # 함수의 기능을 구형\n",
    "    return total\n",
    "\n",
    "inputValue = input()# 입력받는 내장함수, 무조건 str로 받아요\n",
    "# 숫자 3개를 받아보아요\n",
    "print(\"입력받은 값은 : {}\".format(inputValue))\n",
    "# \"100 200 300\"\n",
    "var1 = inputValue.split(\" \")  # 값을 분리해서 list로 리턴\n",
    "result = mySum(int(var1[0]),int(var1[1]),int(var1[2]))\n",
    "\n",
    "print(\"최종결과는 {}\".format(result))"
   ]
  },
  {
   "cell_type": "code",
   "execution_count": 9,
   "metadata": {},
   "outputs": [
    {
     "name": "stdout",
     "output_type": "stream",
     "text": [
      "최종결과 : 100\n"
     ]
    }
   ],
   "source": [
    "# 함수 2번째\n",
    "\n",
    "def mySum2(*args):\n",
    "    # 전달받은 모든 값들을 더해서 리턴\n",
    "    # * : 몇개가 들어올지 모르겠어 args가 tuple로 간주됨\n",
    "    k = 0\n",
    "    for i in range(len(args)):\n",
    "        k += args[i]\n",
    "    return k\n",
    "\n",
    "# args => (10,20,30,40)    \n",
    "total = mySum2(10,20,30,40)\n",
    "print(\"최종결과 : {}\".format(total))"
   ]
  },
  {
   "cell_type": "code",
   "execution_count": 8,
   "metadata": {},
   "outputs": [
    {
     "name": "stdout",
     "output_type": "stream",
     "text": [
      "300 20000\n"
     ]
    }
   ],
   "source": [
    "# 함수를 하나 정의해요\n",
    "# 숫자 2개 받아서 2개의 합과 곱을 리턴\n",
    "#  tuple을 이용해서 마치 여러개의 값이 리턴되는것처럼 보임\n",
    "\n",
    "# tuple a = (10,20,30) = 10,20,30\n",
    "\n",
    "def multi_process(x,y):\n",
    "    result1 = x + y\n",
    "    result2 = x * y\n",
    "    return result1,result2  # => 이러면 tuple로 값이 나옴\n",
    "a,b = multi_process(100,200)\n",
    "print(a,b)"
   ]
  },
  {
   "cell_type": "code",
   "execution_count": 12,
   "metadata": {},
   "outputs": [
    {
     "name": "stdout",
     "output_type": "stream",
     "text": [
      "103\n"
     ]
    }
   ],
   "source": [
    "# 사용자 정의 함수를 만들어요\n",
    "# default parameter\n",
    "\n",
    "def mySum(a,b,c=100): # c에 값이 안들어오면 c는 100을 넣자(default 값을 지정)\n",
    "                      # default parameter는 마지막 변수에만 적용가능\n",
    "    return a + b + c\n",
    "\n",
    "total = mySum(1,2)\n",
    "print(total)"
   ]
  },
  {
   "cell_type": "code",
   "execution_count": 15,
   "metadata": {},
   "outputs": [
    {
     "name": "stdout",
     "output_type": "stream",
     "text": [
      "30\n",
      "100\n",
      "30\n",
      "30\n"
     ]
    }
   ],
   "source": [
    "tmp = 100                   # global variable\n",
    "\n",
    "def myFunc(x):             # 함수 안에서의 변수는 local variable(지역변수)\n",
    "    tmp = 10               # local variable은 함수가 호출될때 생성되고 함수 수행이 끝나면 없어짐\n",
    "    tmp += x\n",
    "    return tmp\n",
    "\n",
    "\n",
    "print(myFunc(20)) # 30\n",
    "print(tmp)        # 100\n",
    "\n",
    "####################################################################################################################\n",
    "tmp = 100\n",
    "\n",
    "def myFunc(x):             \n",
    "    global tmp                # 이런 코드는 좋지 않아요! (재사용 하기 힘들어요)\n",
    "    tmp = 10\n",
    "    tmp += x\n",
    "    return tmp\n",
    "\n",
    "\n",
    "print(myFunc(20)) # 30\n",
    "print(tmp)        # 30\n"
   ]
  },
  {
   "cell_type": "code",
   "execution_count": 20,
   "metadata": {},
   "outputs": [
    {
     "name": "stdout",
     "output_type": "stream",
     "text": [
      "False\n",
      "이것은 소리없는 아우성\n"
     ]
    }
   ],
   "source": [
    "# 사용자 정의 함수는 위에서 설명한 그 방식대로 이용하면 되요\n",
    "# 프로그램을 작성할 대 함수를 어떻게 정의해서 사용할 것인가를 고민해서 작성\n",
    "\n",
    "# 나머지는 내장함수에요 python이 제공해주는 함수\n",
    "# int() : 인자로 들어온 놈을 정수로 변환\n",
    "# abs() : 절대값\n",
    "# all() : 인자로 반복가능한 타입이 와야함 (list set dict tuple str...)\n",
    "#         인자로 들어온 값이 모두 True일 경우 True리턴\n",
    "a = [True,100,{},3.14]\n",
    "print(all(a)) # False\n",
    "# len() : 길이구하는 내장함수\n",
    "# list() : list로 맏들어주는 함수\n",
    "# tuple()\n",
    "# str()\n",
    "# type()\n",
    "# max(),min()\n",
    "# sorted()\n",
    "a = [\"이것은\",\"소리없는\",\"아우성\"]\n",
    "# 이것은 소리없는 아우성\n",
    "# join()함수를 이용하면 편해요\n",
    "print(\" \".join(a))\n"
   ]
  },
  {
   "cell_type": "code",
   "execution_count": null,
   "metadata": {},
   "outputs": [],
   "source": []
  }
 ],
 "metadata": {
  "kernelspec": {
   "display_name": "[CPU_ENV]",
   "language": "python",
   "name": "cpu_env"
  },
  "language_info": {
   "codemirror_mode": {
    "name": "ipython",
    "version": 3
   },
   "file_extension": ".py",
   "mimetype": "text/x-python",
   "name": "python",
   "nbconvert_exporter": "python",
   "pygments_lexer": "ipython3",
   "version": "3.6.9"
  }
 },
 "nbformat": 4,
 "nbformat_minor": 2
}
